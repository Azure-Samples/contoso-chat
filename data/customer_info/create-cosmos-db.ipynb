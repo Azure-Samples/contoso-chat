{
 "cells": [
  {
   "cell_type": "code",
   "execution_count": 1,
   "metadata": {},
   "outputs": [],
   "source": [
    "from azure.cosmos import CosmosClient, exceptions, PartitionKey\n",
    "import os\n",
    "from dotenv import load_dotenv\n",
    "\n",
    "load_dotenv()"
   ]
  },
  {
   "cell_type": "code",
   "execution_count": 2,
   "metadata": {},
   "outputs": [],
   "source": [
    "# Set the Cosmos DB endpoint, key and database name in the .env file. The key and endpoint can be found in the resource created in the portal.\n",
    "COSMOS_ENDPOINT = os.environ[\"COSMOS_ENDPOINT\"]\n",
    "COSMOS_KEY =  os.environ[\"COSMOS_KEY\"]\n",
    "client = CosmosClient(COSMOS_ENDPOINT, credential=COSMOS_KEY)\n",
    "DATABASE_NAME = 'contoso-outdoor'\n",
    "CONTAINER_NAME = 'customers'"
   ]
  },
  {
   "cell_type": "code",
   "execution_count": 3,
   "metadata": {},
   "outputs": [],
   "source": [
    "# Create the database if it doesnt already exist\n",
    "client = CosmosClient(COSMOS_ENDPOINT, credential=COSMOS_KEY)\n",
    "try:\n",
    "    database = client.create_database(DATABASE_NAME)\n",
    "except exceptions.CosmosResourceExistsError:\n",
    "    database = client.get_database_client(DATABASE_NAME)\n",
    "\n",
    "print(database)"
   ]
  },
  {
   "cell_type": "code",
   "execution_count": 4,
   "metadata": {},
   "outputs": [],
   "source": [
    "# Create the container if it doesnt already exist\n",
    "try:\n",
    "    container = database.create_container(id=CONTAINER_NAME, partition_key=PartitionKey(path=\"/id\"))\n",
    "except exceptions.CosmosResourceExistsError:\n",
    "    container = database.get_container_client(CONTAINER_NAME)\n",
    "except exceptions.CosmosHttpResponseError:\n",
    "    raise\n",
    "print(container)"
   ]
  },
  {
   "cell_type": "code",
   "execution_count": 5,
   "metadata": {},
   "outputs": [],
   "source": [
    "# Loop through each json file in data/customer_info and insert into container\n",
    "import os\n",
    "import json\n",
    "import glob\n",
    "path = '.'\n",
    "for filename in glob.glob(os.path.join(path, '*.json')):\n",
    "    with open(filename) as file:\n",
    "        customer = json.load(file)\n",
    "        container.upsert_item(customer)\n",
    "        print('Upserted item with id {0}'.format(customer['id']))"
   ]
  },
  {
   "cell_type": "code",
   "execution_count": 6,
   "metadata": {},
   "outputs": [],
   "source": [
    "# Get items from container to validate they were inserted\n",
    "print('Get all items in container')\n",
    "items = list(container.read_all_items(max_item_count=10))\n",
    "print(items)\n"
   ]
  }
 ],
 "metadata": {
  "kernelspec": {
   "display_name": "pfmain",
   "language": "python",
   "name": "python3"
  },
  "language_info": {
   "codemirror_mode": {
    "name": "ipython",
    "version": 3
   },
   "file_extension": ".py",
   "mimetype": "text/x-python",
   "name": "python",
   "nbconvert_exporter": "python",
   "pygments_lexer": "ipython3",
   "version": "3.11.8"
  }
 },
 "nbformat": 4,
 "nbformat_minor": 2
}
