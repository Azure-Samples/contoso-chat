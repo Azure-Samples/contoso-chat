{
 "cells": [
  {
   "cell_type": "code",
   "execution_count": 25,
   "metadata": {},
   "outputs": [],
   "source": [
    "import os\n",
    "from pathlib import Path\n",
    "\n",
    "from promptflow import PFClient\n",
    "from promptflow.entities import (\n",
    "    AzureOpenAIConnection,\n",
    "    CustomConnection,\n",
    "    CognitiveSearchConnection,\n",
    ")\n",
    "from dotenv import load_dotenv\n",
    "\n",
    "load_dotenv()\n",
    "\n",
    "pf = PFClient()"
   ]
  },
  {
   "cell_type": "code",
   "execution_count": 26,
   "metadata": {},
   "outputs": [],
   "source": [
    "# Create local Azure OpenAI Connection\n",
    "AOAI_KEY= os.environ[\"CONTOSO_AI_SERVICES_KEY\"]\n",
    "AOAI_ENDPOINT= os.environ[\"CONTOSO_AI_SERVICES_ENDPOINT\"]\n",
    "connection = AzureOpenAIConnection(\n",
    "    name=\"aoai-connection\",\n",
    "    api_key=AOAI_KEY,\n",
    "    api_base=AOAI_ENDPOINT,\n",
    "    api_type=\"azure\",\n",
    "    api_version=\"2023-07-01-preview\",\n",
    ")\n",
    "\n",
    "print(f\"Creating connection {connection.name}...\")\n",
    "result = pf.connections.create_or_update(connection)\n",
    "print(result)"
   ]
  },
  {
   "cell_type": "code",
   "execution_count": 27,
   "metadata": {},
   "outputs": [],
   "source": [
    "# Create the local contoso-cosmos connection\n",
    "COSMOS_ENDPOINT = os.environ[\"COSMOS_ENDPOINT\"]\n",
    "COSMOS_KEY = os.environ[\"COSMOS_KEY\"]\n",
    "connection = CustomConnection(\n",
    "    name=\"contoso-cosmos\",\n",
    "    configs={\n",
    "        \"endpoint\": COSMOS_ENDPOINT,\n",
    "        \"databaseId\": \"contoso-outdoor\",\n",
    "        \"containerId\": \"customers\",\n",
    "    },\n",
    "    secrets={\"key\": COSMOS_KEY},\n",
    ")\n",
    "\n",
    "print(f\"Creating connection {connection.name}...\")\n",
    "result = pf.connections.create_or_update(connection)\n",
    "print(result)"
   ]
  },
  {
   "cell_type": "code",
   "execution_count": 28,
   "metadata": {},
   "outputs": [],
   "source": [
    "# Create the local contoso-search connection\n",
    "SEARCH_ENDPOINT = os.environ[\"CONTOSO_SEARCH_ENDPOINT\"]\n",
    "SEARCH_KEY = os.environ[\"CONTOSO_SEARCH_KEY\"]\n",
    "connection = CognitiveSearchConnection(\n",
    "    name=\"contoso-search\",\n",
    "    api_key=SEARCH_KEY,\n",
    "    api_base=SEARCH_ENDPOINT,\n",
    "    api_version=\"2023-07-01-preview\",\n",
    ")\n",
    "\n",
    "print(f\"Creating connection {connection.name}...\")\n",
    "result = pf.connections.create_or_update(connection)\n",
    "print(result)"
   ]
  },
  {
   "cell_type": "code",
   "execution_count": 29,
   "metadata": {},
   "outputs": [],
   "source": [
    "# Create the local contoso-search connection\n",
    "SUPPORT_ENDPOINT = os.environ.get(\"SUPPORT_ENDPOINT\", \"\")\n",
    "SUPPORT_KEY = os.environ.get(\"SUPPORT_KEY\", \"\")\n",
    "print(SUPPORT_ENDPOINT)\n",
    "\n",
    "if(SUPPORT_ENDPOINT == \"\"):\n",
    "    print(\"Skipping support connection creation, missing environment variables\")\n",
    "else:\n",
    "    connection = CustomConnection(\n",
    "        name=\"support-endpoint\",\n",
    "        configs={\n",
    "            \"api_base\": SUPPORT_ENDPOINT,\n",
    "        },\n",
    "        secrets={\"api_key\": SUPPORT_KEY},\n",
    "    )\n",
    "\n",
    "\n",
    "    print(f\"Creating connection {connection.name}...\")\n",
    "    result = pf.connections.create_or_update(connection)\n",
    "    print(result)"
   ]
  },
  {
   "cell_type": "code",
   "execution_count": 30,
   "metadata": {},
   "outputs": [],
   "source": [
    "# Create the local contoso-search connection\n",
    "CHAT_ENDPOINT = os.environ.get(\"CHAT_ENDPOINT\", \"\")\n",
    "CHAT_KEY = os.environ.get(\"CHAT_KEY\", \"\")\n",
    "\n",
    "if(CHAT_ENDPOINT == \"\"):\n",
    "    print(\"Skipping chat connection creation, missing environment variables\")\n",
    "else:\n",
    "    connection = CustomConnection(\n",
    "        name=\"chat-endpoint\",\n",
    "        configs={\n",
    "            \"api_base\": CHAT_ENDPOINT,\n",
    "        },\n",
    "        secrets={\"api_key\": CHAT_KEY},\n",
    "    )\n",
    "\n",
    "\n",
    "    print(f\"Creating connection {connection.name}...\")\n",
    "    result = pf.connections.create_or_update(connection)\n",
    "    print(result)"
   ]
  }
 ],
 "metadata": {
  "kernelspec": {
   "display_name": "pfmain",
   "language": "python",
   "name": "python3"
  },
  "language_info": {
   "codemirror_mode": {
    "name": "ipython",
    "version": 3
   },
   "file_extension": ".py",
   "mimetype": "text/x-python",
   "name": "python",
   "nbconvert_exporter": "python",
   "pygments_lexer": "ipython3",
   "version": "3.11.8"
  }
 },
 "nbformat": 4,
 "nbformat_minor": 2
}
