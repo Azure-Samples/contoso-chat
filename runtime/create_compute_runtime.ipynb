{
 "cells": [
  {
   "cell_type": "markdown",
   "metadata": {},
   "source": [
    "## 1. Create the compute instance"
   ]
  },
  {
   "cell_type": "code",
   "execution_count": 2,
   "metadata": {},
   "outputs": [],
   "source": [
    "# import required libraries\n",
    "import os\n",
    "from azure.ai.ml import MLClient\n",
    "from azure.ai.ml.entities import WorkspaceConnection\n",
    "# Import required libraries\n",
    "from azure.identity import DefaultAzureCredential, InteractiveBrowserCredential\n",
    "\n",
    "# Import required libraries\n",
    "from azure.identity import DefaultAzureCredential, InteractiveBrowserCredential\n",
    "\n",
    "try:\n",
    "    credential = DefaultAzureCredential()\n",
    "    # Check if given credential can get token successfully.\n",
    "    credential.get_token(\"https://management.azure.com/.default\")\n",
    "except Exception as ex:\n",
    "    # Fall back to InteractiveBrowserCredential in case DefaultAzureCredential not work\n",
    "    credential = InteractiveBrowserCredential()\n",
    "\n",
    "from azure.ai.ml.entities import ComputeInstance\n",
    "from azure.ai.ml.entities import CustomApplications, ImageSettings, EndpointsSettings, VolumeSettings \n",
    "\n",
    "ml_client = MLClient.from_config(credential=credential)"
   ]
  },
  {
   "cell_type": "code",
   "execution_count": 3,
   "metadata": {},
   "outputs": [],
   "source": [
    "# create custom application from default promptflow image\n",
    "image = ImageSettings(reference='mcr.microsoft.com/azureml/promptflow/promptflow-runtime-stable:latest') \n",
    "endpoints = [EndpointsSettings(published=8081, target=8080)]\n",
    "app = CustomApplications(name='promptflow-runtime',endpoints=endpoints,bind_mounts=[],image=image,environment_variables={}) "
   ]
  },
  {
   "cell_type": "code",
   "execution_count": 4,
   "metadata": {},
   "outputs": [],
   "source": [
    "# create compute instance for prompt flow\n",
    "ci_basic_name = \"contoso-chat-ci\"\n",
    "ci_basic = ComputeInstance(name=ci_basic_name, size=\"STANDARD_DS12_V2\",custom_applications=[app])\n",
    "\n",
    "# check if compute instance is already created\n",
    "try:\n",
    "    ci_instance = ml_client.compute.get(name=ci_basic_name)\n",
    "    print(\"Compute instance already exists and its current state is:\", ci_instance.state)\n",
    "except:\n",
    "    ci_instance = ml_client.begin_create_or_update(ci_basic)\n",
    "    print(\"Creating compute instance\", ci_instance)\n",
    "    # Check state of compute instance\n",
    "    ci_instance = ml_client.compute.get(name=ci_basic_name)\n",
    "    print(ci_instance.state)"
   ]
  },
  {
   "cell_type": "code",
   "execution_count": 5,
   "metadata": {},
   "outputs": [],
   "source": [
    "# List compute instances\n",
    "for ci in ml_client.compute.list():\n",
    "    print(ci.name)"
   ]
  },
  {
   "cell_type": "markdown",
   "metadata": {},
   "source": [
    "## 2. Create the prompt flow runtime"
   ]
  },
  {
   "cell_type": "markdown",
   "metadata": {},
   "source": [
    "Once the compute instance is created. [Follow these instructions to create a runtime in AI Studio.](https://learn.microsoft.com/en-us/azure/ai-studio/how-to/create-manage-runtime)"
   ]
  },
  {
   "cell_type": "markdown",
   "metadata": {},
   "source": [
    "## 3. Run the prompt flow on the runtime to install the dependencies"
   ]
  },
  {
   "cell_type": "code",
   "execution_count": 6,
   "metadata": {},
   "outputs": [],
   "source": [
    "config_path = \"../config.json\"\n",
    "from promptflow.azure import PFClient\n",
    "pf_azure_client = PFClient.from_config(credential=credential, path=config_path)\n"
   ]
  },
  {
   "cell_type": "code",
   "execution_count": 7,
   "metadata": {},
   "outputs": [],
   "source": [
    "# Update the runtime to the name of the runtime you created previously\n",
    "runtime = \"automatic\"\n",
    "# load flow\n",
    "flow = \".\"\n",
    "run_name=\"update_runtime_packages\"\n",
    "data = \"../data/emptydata.jsonl\""
   ]
  },
  {
   "cell_type": "code",
   "execution_count": 8,
   "metadata": {},
   "outputs": [],
   "source": [
    "try:\n",
    "    runtime_flow = pf_azure_client.flows.create_or_update(\n",
    "        flow=\".\",\n",
    "        runtime=runtime,\n",
    "        display_name=run_name)\n",
    "    print(\"Creating prompt flow\", runtime_flow)\n",
    "except:\n",
    "    runtime_flows = pf_azure_client.flows.list()\n",
    "    # loop thru flows and get the one based on the run_name\n",
    "    for runtime_flow in runtime_flows:\n",
    "        if runtime_flow.display_name == run_name:\n",
    "            runtime_flow = runtime_flow\n",
    "            print(\"Found runtime flow\", runtime_flow)\n",
    "            break"
   ]
  },
  {
   "cell_type": "code",
   "execution_count": 9,
   "metadata": {},
   "outputs": [],
   "source": [
    "runtime_flow_run = pf_azure_client.run(\n",
    "    flow=flow,\n",
    "    data=data,\n",
    "    runtime=runtime,\n",
    "    # create a display name as current datetime\n",
    "    display_name=run_name,\n",
    "    name=run_name\n",
    ")\n",
    "print(runtime_flow_run)"
   ]
  },
  {
   "cell_type": "code",
   "execution_count": 10,
   "metadata": {},
   "outputs": [],
   "source": [
    "pf_azure_client.stream(runtime_flow_run)"
   ]
  },
  {
   "cell_type": "code",
   "execution_count": null,
   "metadata": {},
   "outputs": [],
   "source": [
    "details = pf_azure_client.get_details(runtime_flow_run)"
   ]
  },
  {
   "cell_type": "code",
   "execution_count": null,
   "metadata": {},
   "outputs": [],
   "source": [
    "details[\"outputs.version\"][0]"
   ]
  }
 ],
 "metadata": {
  "kernelspec": {
   "display_name": "pfmain",
   "language": "python",
   "name": "python3"
  },
  "language_info": {
   "codemirror_mode": {
    "name": "ipython",
    "version": 3
   },
   "file_extension": ".py",
   "mimetype": "text/x-python",
   "name": "python",
   "nbconvert_exporter": "python",
   "pygments_lexer": "ipython3",
   "version": "3.11.6"
  }
 },
 "nbformat": 4,
 "nbformat_minor": 2
}
