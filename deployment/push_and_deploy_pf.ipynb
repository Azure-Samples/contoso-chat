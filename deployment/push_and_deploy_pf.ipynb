{
 "cells": [
  {
   "cell_type": "markdown",
   "metadata": {},
   "source": [
    "# 1. Push the prompt flow to AI Studio"
   ]
  },
  {
   "cell_type": "code",
   "execution_count": 1,
   "metadata": {},
   "outputs": [],
   "source": [
    "from deploy_pf_utils import push_pf"
   ]
  },
  {
   "cell_type": "markdown",
   "metadata": {},
   "source": [
    "## 1.1 Push contoso-chat"
   ]
  },
  {
   "cell_type": "code",
   "execution_count": 2,
   "metadata": {},
   "outputs": [
    {
     "name": "stderr",
     "output_type": "stream",
     "text": [
      "Found the config file in: ../config.json\n"
     ]
    },
    {
     "name": "stdout",
     "output_type": "stream",
     "text": [
      "Creating prompt flow ../contoso-chat/ to contoso-chat-2024-03-05-02-55-22 (chat)\n",
      "Flow created successfully:\n",
      "{\n",
      "    \"name\": \"9ca0bee6-54d8-4181-805f-52ecf2c88841\",\n",
      "    \"type\": \"chat\",\n",
      "    \"path\": \"Users/cedricvidal/promptflow/contoso-chat-03-05-2024-02-55-22/flow.dag.yaml\",\n",
      "    \"code\": \"azureml://locations/swedencentral/workspaces/e1957cba-343f-41f0-afcf-a3a5381717ab/flows/9ca0bee6-54d8-4181-805f-52ecf2c88841\",\n",
      "    \"display_name\": \"contoso-chat-2024-03-05-02-55-22\",\n",
      "    \"owner\": {\n",
      "        \"user_object_id\": \"0942ebd5-1ebf-4c2c-b94c-a4b753a9114e\",\n",
      "        \"user_tenant_id\": \"72f988bf-86f1-41af-91ab-2d7cd011db47\",\n",
      "        \"user_name\": \"Cedric Vidal\"\n",
      "    },\n",
      "    \"is_archived\": false,\n",
      "    \"created_date\": \"2024-03-05 02:55:34.841769+00:00\",\n",
      "    \"flow_portal_url\": \"https://ai.azure.com/projectflows/9ca0bee6-54d8-4181-805f-52ecf2c88841/e1957cba-343f-41f0-afcf-a3a5381717ab/details/Flow?wsid=/subscriptions/7b6a2141-95cf-4729-aa87-872160b87c03/resourcegroups/contchat-rg/providers/Microsoft.MachineLearningServices/workspaces/contoso-chat-sf-aiproj\"\n",
      "}\n",
      "Created prompt flow contoso-chat-2024-03-05-02-55-22\n"
     ]
    }
   ],
   "source": [
    "push_pf(flow_path=\"../contoso-chat/\", pf_name_suffix=\"contoso-chat\", type=\"chat\")"
   ]
  },
  {
   "cell_type": "markdown",
   "metadata": {},
   "source": [
    "## 1.2 Push contoso-support"
   ]
  },
  {
   "cell_type": "code",
   "execution_count": 3,
   "metadata": {},
   "outputs": [
    {
     "name": "stderr",
     "output_type": "stream",
     "text": [
      "Found the config file in: ../config.json\n"
     ]
    },
    {
     "name": "stdout",
     "output_type": "stream",
     "text": [
      "Flow created successfully:\n",
      "{\n",
      "    \"name\": \"d33e56a7-5d0f-4a64-ac7f-e1fe6b16dce3\",\n",
      "    \"type\": \"chat\",\n",
      "    \"path\": \"Users/cedricvidal/promptflow/contoso-support-03-05-2024-02-47-55/flow.dag.yaml\",\n",
      "    \"code\": \"azureml://locations/swedencentral/workspaces/e1957cba-343f-41f0-afcf-a3a5381717ab/flows/d33e56a7-5d0f-4a64-ac7f-e1fe6b16dce3\",\n",
      "    \"display_name\": \"contoso-support-2024-03-05-02-47-55\",\n",
      "    \"owner\": {\n",
      "        \"user_object_id\": \"0942ebd5-1ebf-4c2c-b94c-a4b753a9114e\",\n",
      "        \"user_tenant_id\": \"72f988bf-86f1-41af-91ab-2d7cd011db47\",\n",
      "        \"user_name\": \"Cedric Vidal\"\n",
      "    },\n",
      "    \"is_archived\": false,\n",
      "    \"created_date\": \"2024-03-05 02:48:08.945995+00:00\",\n",
      "    \"flow_portal_url\": \"https://ai.azure.com/projectflows/d33e56a7-5d0f-4a64-ac7f-e1fe6b16dce3/e1957cba-343f-41f0-afcf-a3a5381717ab/details/Flow?wsid=/subscriptions/7b6a2141-95cf-4729-aa87-872160b87c03/resourcegroups/contchat-rg/providers/Microsoft.MachineLearningServices/workspaces/contoso-chat-sf-aiproj\"\n",
      "}\n",
      "Creating prompt flow <promptflow.azure._entities._flow.Flow object at 0x7f105f290390>\n"
     ]
    }
   ],
   "source": [
    "push_pf(flow_path=\"../contoso-support/\", pf_name_suffix=\"contoso-support\", type=\"chat\")"
   ]
  },
  {
   "cell_type": "markdown",
   "metadata": {},
   "source": [
    "## 1.3 Push contoso-intent"
   ]
  },
  {
   "cell_type": "code",
   "execution_count": 4,
   "metadata": {},
   "outputs": [
    {
     "name": "stderr",
     "output_type": "stream",
     "text": [
      "Found the config file in: ../config.json\n",
      "[2024-03-05 02:49:46,915][promptflow][WARNING] - Schema validation warnings: [id: Unknown field., name: Unknown field.]\n"
     ]
    },
    {
     "name": "stdout",
     "output_type": "stream",
     "text": [
      "Flow created successfully:\n",
      "{\n",
      "    \"name\": \"26b8b26b-fa4c-4244-96b1-6723a3e11322\",\n",
      "    \"type\": \"chat\",\n",
      "    \"path\": \"Users/cedricvidal/promptflow/contoso-intent-03-05-2024-02-49-46/flow.dag.yaml\",\n",
      "    \"code\": \"azureml://locations/swedencentral/workspaces/e1957cba-343f-41f0-afcf-a3a5381717ab/flows/26b8b26b-fa4c-4244-96b1-6723a3e11322\",\n",
      "    \"display_name\": \"contoso-intent-2024-03-05-02-49-46\",\n",
      "    \"owner\": {\n",
      "        \"user_object_id\": \"0942ebd5-1ebf-4c2c-b94c-a4b753a9114e\",\n",
      "        \"user_tenant_id\": \"72f988bf-86f1-41af-91ab-2d7cd011db47\",\n",
      "        \"user_name\": \"Cedric Vidal\"\n",
      "    },\n",
      "    \"is_archived\": false,\n",
      "    \"created_date\": \"2024-03-05 02:49:56.452073+00:00\",\n",
      "    \"flow_portal_url\": \"https://ai.azure.com/projectflows/26b8b26b-fa4c-4244-96b1-6723a3e11322/e1957cba-343f-41f0-afcf-a3a5381717ab/details/Flow?wsid=/subscriptions/7b6a2141-95cf-4729-aa87-872160b87c03/resourcegroups/contchat-rg/providers/Microsoft.MachineLearningServices/workspaces/contoso-chat-sf-aiproj\"\n",
      "}\n",
      "Creating prompt flow <promptflow.azure._entities._flow.Flow object at 0x7f105a1aaf90>\n"
     ]
    }
   ],
   "source": [
    "push_pf(flow_path=\"../contoso-intent/\", pf_name_suffix=\"contoso-intent\", type=\"chat\")"
   ]
  },
  {
   "cell_type": "markdown",
   "metadata": {},
   "source": [
    "# 2. Navigate to AI Studio to test and deploy the prompt flow"
   ]
  }
 ],
 "metadata": {
  "kernelspec": {
   "display_name": "Python 3",
   "language": "python",
   "name": "python3"
  },
  "language_info": {
   "codemirror_mode": {
    "name": "ipython",
    "version": 3
   },
   "file_extension": ".py",
   "mimetype": "text/x-python",
   "name": "python",
   "nbconvert_exporter": "python",
   "pygments_lexer": "ipython3",
   "version": "3.11.8"
  }
 },
 "nbformat": 4,
 "nbformat_minor": 2
}
