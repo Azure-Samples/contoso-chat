{
 "cells": [
  {
   "cell_type": "markdown",
   "metadata": {},
   "source": [
    "# Local Evaluation - Groundedness\n",
    "\n",
    "After you have setup and configured the prompt flow, its time to evaluation its performance. Here we can use the prompt flow SDK to test different questions and see how the prompt flow performs using the evaluation prompt flows provided."
   ]
  },
  {
   "cell_type": "code",
   "execution_count": 1,
   "metadata": {},
   "outputs": [
    {
     "data": {
      "text/plain": [
       "True"
      ]
     },
     "execution_count": 1,
     "metadata": {},
     "output_type": "execute_result"
    }
   ],
   "source": [
    "from promptflow import PFClient\n",
    "pf_client = PFClient()\n",
    "\n",
    "from dotenv import load_dotenv\n",
    "\n",
    "from pathlib import Path\n",
    "load_dotenv(Path(\"../local.env\"))"
   ]
  },
  {
   "cell_type": "code",
   "execution_count": 2,
   "metadata": {},
   "outputs": [
    {
     "name": "stderr",
     "output_type": "stream",
     "text": [
      "[2024-01-08 18:45:09,498][promptflow][WARNING] - Unknown input(s) of flow: {'customerId': '4'}\n",
      "[2024-01-08 18:45:09,516][promptflow.contracts.tool][WARNING] - Failed to check if list[str] is a custom strong type: issubclass() arg 1 must be a class\n",
      "[2024-01-08 18:45:09,771][promptflow._sdk.entities._connection][WARNING] - Please use connection.secrets[key] to access secrets.\n",
      "[2024-01-08 18:45:09,771][promptflow._sdk.entities._connection][WARNING] - Please use connection.secrets[key] to access secrets.\n",
      "[2024-01-08 18:45:09,804][promptflow.contracts.tool][WARNING] - Failed to check if list[str] is a custom strong type: issubclass() arg 1 must be a class\n"
     ]
    },
    {
     "name": "stdout",
     "output_type": "stream",
     "text": [
      "2024-01-08 18:45:10 -0600   30664 execution.flow     INFO     Start executing nodes in thread pool mode.\n",
      "2024-01-08 18:45:10 -0600   30664 execution.flow     INFO     Start to run 3 nodes with concurrency level 16.\n",
      "2024-01-08 18:45:10 -0600   30664 execution.flow     INFO     Executing node classify_intent_prompt. node run id: a089ffa8-f1ea-490d-b995-de361a38cfc2_classify_intent_prompt_0\n",
      "2024-01-08 18:45:10 -0600   30664 execution.flow     INFO     Node classify_intent_prompt completes.\n",
      "2024-01-08 18:45:10 -0600   30664 execution.flow     INFO     Executing node classify_intent_llm. node run id: a089ffa8-f1ea-490d-b995-de361a38cfc2_classify_intent_llm_0\n",
      "2024-01-08 18:45:10 -0600   30664 execution.flow     INFO     Node classify_intent_llm completes.\n",
      "2024-01-08 18:45:10 -0600   30664 execution.flow     INFO     Executing node run_chat_or_support. node run id: a089ffa8-f1ea-490d-b995-de361a38cfc2_run_chat_or_support_0\n",
      "2024-01-08 18:45:10 -0600   30664 execution.flow     INFO     [run_chat_or_support in line 0 (index starts from 0)] stdout> running support flow\n",
      "2024-01-08 18:45:12 -0600   30664 execution.flow     INFO     [run_chat_or_support in line 0 (index starts from 0)] stdout> b'{\"answer\":\"Hi Emily! To wash the Summit Breeze Jacket you purchased, machine wash it on a gentle cycle with cold water and air dry it. Avoid using bleach or fabric softeners. \\\\ud83e\\\\uddfc\\\\ud83e\\\\uddfa Hope this helps! Let me know if you have any other questions. \\\\ud83d\\\\ude0a\",\"citations\":[{\"content\":\"# Information about product item_number: 17\\\\n\\\\nRainGuard Hiking Jacket, price $110,\\\\n\\\\n\\\\n\\\\nWear appropriate layers underneath the jacket based on the weather conditions.\\\\nAdjust the hood, cuffs, and hem to achieve a snug and comfortable fit.\\\\nUtilize the pockets for storing small items such as keys, wallet, or a mobile phone.\\\\nIf needed, open the ventilation zippers to regulate airflow and prevent overheating.\\\\nBe mindful of the jacket\\'s limitations in extreme weather conditions.\\\\n\\\\nCare and Maintenance\\\\n   To ensure the longevity and performance of your RainGuard Hiking Jacket, please adhere to the following care instructions:\\\\n\\\\nClean the jacket as needed following the manufacturer\\'s recommendations.\\\\nUse mild detergent and cold water for washing. Do not use bleach or harsh chemicals.\\\\nRinse the jacket thoroughly and allow it to air dry. Do not tumble dry.\\\\nStore the jacket in a cool, dry place when not in use.\\\\nRegularly inspect the jacket for any signs of damage and repair or replace as necessary.\",\"id\":\"251\"},{\"content\":\"# Information about product item_number: 3\\\\n\\\\nSummit Breeze Jacket, price $120,\\\\n\\\\n\\\\n\\\\nDo not use harsh chemicals: Avoid using harsh chemicals, solvents, or bleach when cleaning the Summit Breeze Jacket. These substances can damage the fabric, zippers, or other components of the jacket. Instead, follow the recommended care instructions provided in the user manual.\\\\n\\\\nDo not store the jacket when wet or damp: Before storing the jacket, ensure that it is completely dry. Storing the jacket when wet or damp can lead to the growth of mold, mildew, and unpleasant odors. Hang it up or lay it flat in a well-ventilated area until it is fully dry.\\\\n\\\\nAvoid excessive abrasion or friction: While the Summit Breeze Jacket is designed to be durable, excessive rubbing or friction against rough surfaces can cause premature wear or damage. Avoid continuous contact with abrasive materials to maintain the jacket\\'s integrity.\",\"id\":\"90\"},{\"content\":\"# Information about product item_number: 17\\\\n\\\\nRainGuard Hiking Jacket, price $110,\\\\n\\\\n\\\\n\\\\n76) Is the RainGuard Hiking Jacket true to size?\\\\n   Generally, the RainGuard Hiking Jacket fits true to size. However, it is advised to refer to the sizing chart provided by the manufacturer to ensure the best fit.\\\\n\\\\n77) Can the RainGuard Hiking Jacket be packed into its pocket for storage?\\\\n   Yes, the RainGuard Hiking Jacket can be packed into one of its zippered pockets, making it compact and easy to carry when not in use.\\\\n\\\\n78) How do I clean the RainGuard Hiking Jacket?\\\\n   To clean the RainGuard Hiking Jacket, machine wash it on a gentle cycle using cold water and mild detergent, then hang it to dry. Do not use bleach, fabric softeners, or dry cleaning, as they may damage the jacket\\'s performance.\",\"id\":\"260\"},{\"content\":\"# Information about product item_number: 3\\\\n\\\\nSummit Breeze Jacket, price $120,\\\\n\\\\n\\\\n\\\\n12) Are there any special care instructions for the Summit Breeze Jacket?\\\\n   To maintain the Summit Breeze Jacket, machine wash on a gentle cycle with cold water and air dry. Do not use bleach or fabric softeners.\\\\n\\\\n13) Does the Summit Breeze Jacket have any reflective elements for visibility?\\\\n   Yes, the Summit Breeze Jacket features reflective accents to help improve visibility in low-light conditions.\\\\n\\\\n14) Are the Summit Breeze Jacket\\'s cuffs adjustable for a better fit?\\\\n   Yes, the Summit Breeze Jacket has Velcro-adjustable cuffs to ensure a secure and comfortable fit.\\\\n\\\\n15) How breathable is the Summit Breeze Jacket during high-intensity activities?\\\\n   The Summit Breeze Jacket is made of a breathable polyester material, which allows moisture to escape while maintaining wind and water resistance.\",\"id\":\"97\"},{\"content\":\"# Information about product item_number: 17\\\\n\\\\nRainGuard Hiking Jacket, price $110,\\\\n\\\\n\\\\n\\\\nDo not expose to open flames or high heat: The RainGuard Hiking Jacket is not flame-resistant. Keep it away from open flames, campfires, and other high-heat sources to prevent damage.\\\\n\\\\nDo not store when wet: Always ensure the jacket is completely dry before storing it. Storing it while damp or wet can lead to mold, mildew, and unpleasant odors.\\\\n\\\\nDo not overload pockets: While the jacket has multiple pockets for storage, avoid overloading them with heavy or bulky items. Excessive weight in the pockets may strain the fabric or affect the jacket\\'s fit.\\\\n\\\\nDo not iron: Ironing the RainGuard Hiking Jacket can damage the fabric and its waterproof coating. If necessary, use a gentle heat setting or follow the manufacturer\\'s instructions.\\\\n\\\\nDo not make alterations: Avoid making any alterations or modifications to the jacket, such as cutting or sewing, as it may compromise its integrity and performance.\",\"id\":\"253\"},{\"content\":\"# Information about product item_number: 16\\\\n\\\\nTrailLite Daypack, price $60,\\\\n\\\\n\\\\n\\\\n73) How do I clean and maintain the TrailLite Daypack?\\\\n   To clean the TrailLite Daypack, simply hand wash it with mild soap and water, then air dry it away from direct sunlight. Avoid using bleach or machine washing to preserve the backpack\\'s durability.\\\\n\\\\n74) Can the TrailLite Daypack be used for daily commuting?\\\\n   While the TrailLite Daypack is designed primarily for outdoor activities, its multiple compartments, comfortable design, and hydration compatibility make it suitable for daily commuting as well.\",\"id\":\"195\"}],\"context\":{\"citations\":[{\"content\":\"# Information about product item_number: 17\\\\n\\\\nRainGuard Hiking Jacket, price $110,\\\\n\\\\n\\\\n\\\\nWear appropriate layers underneath the jacket based on the weather conditions.\\\\nAdjust the hood, cuffs, and hem to achieve a snug and comfortable fit.\\\\nUtilize the pockets for storing small items such as keys, wallet, or a mobile phone.\\\\nIf needed, open the ventilation zippers to regulate airflow and prevent overheating.\\\\nBe mindful of the jacket\\'s limitations in extreme weather conditions.\\\\n\\\\nCare and Maintenance\\\\n   To ensure the longevity and performance of your RainGuard Hiking Jacket, please adhere to the following care instructions:\\\\n\\\\nClean the jacket as needed following the manufacturer\\'s recommendations.\\\\nUse mild detergent and cold water for washing. Do not use bleach or harsh chemicals.\\\\nRinse the jacket thoroughly and allow it to air dry. Do not tumble dry.\\\\nStore the jacket in a cool, dry place when not in use.\\\\nRegularly inspect the jacket for any signs of damage and repair or replace as necessary.\",\"id\":\"251\"},{\"content\":\"# Information about product item_number: 3\\\\n\\\\nSummit Breeze Jacket, price $120,\\\\n\\\\n\\\\n\\\\nDo not use harsh chemicals: Avoid using harsh chemicals, solvents, or bleach when cleaning the Summit Breeze Jacket. These substances can damage the fabric, zippers, or other components of the jacket. Instead, follow the recommended care instructions provided in the user manual.\\\\n\\\\nDo not store the jacket when wet or damp: Before storing the jacket, ensure that it is completely dry. Storing the jacket when wet or damp can lead to the growth of mold, mildew, and unpleasant odors. Hang it up or lay it flat in a well-ventilated area until it is fully dry.\\\\n\\\\nAvoid excessive abrasion or friction: While the Summit Breeze Jacket is designed to be durable, excessive rubbing or friction against rough surfaces can cause premature wear or damage. Avoid continuous contact with abrasive materials to maintain the jacket\\'s integrity.\",\"id\":\"90\"},{\"content\":\"# Information about product item_number: 17\\\\n\\\\nRainGuard Hiking Jacket, price $110,\\\\n\\\\n\\\\n\\\\n76) Is the RainGuard Hiking Jacket true to size?\\\\n   Generally, the RainGuard Hiking Jacket fits true to size. However, it is advised to refer to the sizing chart provided by the manufacturer to ensure the best fit.\\\\n\\\\n77) Can the RainGuard Hiking Jacket be packed into its pocket for storage?\\\\n   Yes, the RainGuard Hiking Jacket can be packed into one of its zippered pockets, making it compact and easy to carry when not in use.\\\\n\\\\n78) How do I clean the RainGuard Hiking Jacket?\\\\n   To clean the RainGuard Hiking Jacket, machine wash it on a gentle cycle using cold water and mild detergent, then hang it to dry. Do not use bleach, fabric softeners, or dry cleaning, as they may damage the jacket\\'s performance.\",\"id\":\"260\"},{\"content\":\"# Information about product item_number: 3\\\\n\\\\nSummit Breeze Jacket, price $120,\\\\n\\\\n\\\\n\\\\n12) Are there any special care instructions for the Summit Breeze Jacket?\\\\n   To maintain the Summit Breeze Jacket, machine wash on a gentle cycle with cold water and air dry. Do not use bleach or fabric softeners.\\\\n\\\\n13) Does the Summit Breeze Jacket have any reflective elements for visibility?\\\\n   Yes, the Summit Breeze Jacket features reflective accents to help improve visibility in low-light conditions.\\\\n\\\\n14) Are the Summit Breeze Jacket\\'s cuffs adjustable for a better fit?\\\\n   Yes, the Summit Breeze Jacket has Velcro-adjustable cuffs to ensure a secure and comfortable fit.\\\\n\\\\n15) How breathable is the Summit Breeze Jacket during high-intensity activities?\\\\n   The Summit Breeze Jacket is made of a breathable polyester material, which allows moisture to escape while maintaining wind and water resistance.\",\"id\":\"97\"},{\"content\":\"# Information about product item_number: 17\\\\n\\\\nRainGuard Hiking Jacket, price $110,\\\\n\\\\n\\\\n\\\\nDo not expose to open flames or high heat: The RainGuard Hiking Jacket is not flame-resistant. Keep it away from open flames, campfires, and other high-heat sources to prevent damage.\\\\n\\\\nDo not store when wet: Always ensure the jacket is completely dry before storing it. Storing it while damp or wet can lead to mold, mildew, and unpleasant odors.\\\\n\\\\nDo not overload pockets: While the jacket has multiple pockets for storage, avoid overloading them with heavy or bulky items. Excessive weight in the pockets may strain the fabric or affect the jacket\\'s fit.\\\\n\\\\nDo not iron: Ironing the RainGuard Hiking Jacket can damage the fabric and its waterproof coating. If necessary, use a gentle heat setting or follow the manufacturer\\'s instructions.\\\\n\\\\nDo not make alterations: Avoid making any alterations or modifications to the jacket, such as cutting or sewing, as it may compromise its integrity and performance.\",\"id\":\"253\"},{\"content\":\"# Information about product item_number: 16\\\\n\\\\nTrailLite Daypack, price $60,\\\\n\\\\n\\\\n\\\\n73) How do I clean and maintain the TrailLite Daypack?\\\\n   To clean the TrailLite Daypack, simply hand wash it with mild soap and water, then air dry it away from direct sunlight. Avoid using bleach or machine washing to preserve the backpack\\'s durability.\\\\n\\\\n74) Can the TrailLite Daypack be used for daily commuting?\\\\n   While the TrailLite Daypack is designed primarily for outdoor activities, its multiple compartments, comfortable design, and hydration compatibility make it suitable for daily commuting as well.\",\"id\":\"195\"}],\"customer_data\":{\"_attachments\":\"attachments/\",\"_etag\":\"\\\\\"01006efd-0000-0100-0000-653c64140000\\\\\"\",\"_rid\":\"JjtiAM6RO-gGAAAAAAAAAA==\",\"_self\":\"dbs/JjtiAA==/colls/JjtiAM6RO-g=/docs/JjtiAM6RO-gGAAAAAAAAAA==/\",\"_ts\":1698456596,\"address\":\"987 Oak Ave,  Cityville USA, 56789\",\"age\":29,\"email\":\"emilyr@example.com\",\"firstName\":\"Emily\",\"id\":\"6\",\"lastName\":\"Rodriguez\",\"membership\":\"nan\",\"orders\":[{\"brand\":\"TrekReady\",\"category\":\"Hiking Footwear\",\"date\":\"3/30/2023\",\"description\":\"Meet the TrekReady TrailWalker Hiking Shoes, the ideal companion for all your outdoor adventures. Constructed with synthetic leather and breathable mesh, these shoes are tough as nails yet surprisingly airy. Their cushioned insoles offer fabulous comfort for long hikes, while the supportive midsoles and traction outsoles with multidirectional lugs ensure stability and excellent grip. A quick-lace system, padded collar and tongue, and reflective accents make these shoes a dream to wear. From combating rough terrain with the reinforced toe cap and heel, to keeping off trail debris with the protective mudguard, the TrailWalker Hiking Shoes have you covered. These waterproof warriors are made to endure all weather conditions. But they\\'re not just about being rugged, they\\'re light as a feather too, minimizing fatigue during epic hikes. Each pair can be customized for a perfect fit with removable insoles and availability in multiple sizes and widths. Navigate hikes comfortably and confidently with the TrailWalker Hiking Shoes. Adventure, here you come!\",\"id\":39,\"name\":\"TrailWalker Hiking Shoes\",\"productId\":11,\"quantity\":2,\"total\":220.0,\"unitprice\":110.0},{\"brand\":\"OutdoorLiving\",\"category\":\"Tents\",\"date\":\"3/18/2023\",\"description\":\"Unveiling the TrailMaster X4 Tent from OutdoorLiving, your home away from home for your next camping adventure. Crafted from durable polyester, this tent boasts a spacious interior perfect for four occupants. It ensures your dryness under drizzly skies thanks to its water-resistant construction, and the accompanying rainfly adds an extra layer of weather protection. It offers refreshing airflow and bug defence, courtesy of its mesh panels. Accessibility is not an issue with its multiple doors and interior pockets that keep small items tidy. Reflective guy lines grant better visibility at night, and the freestanding design simplifies setup and relocation. With the included carry bag, transporting this convenient abode becomes a breeze. Be it an overnight getaway or a week-long nature escapade, the TrailMaster X4 Tent provides comfort, convenience, and concord with the great outdoors. Comes with a two-year limited warranty to ensure customer satisfaction.\",\"id\":3,\"name\":\"TrailMaster X4 Tent\",\"productId\":1,\"quantity\":3,\"total\":750.0,\"unitprice\":250.0},{\"brand\":\"MountainStyle\",\"category\":\"Hiking Clothing\",\"date\":\"2/20/2023\",\"description\":\"Discover the joy of hiking with MountainStyle\\'s Summit Breeze Jacket. This lightweight jacket is your perfect companion for outdoor adventures. Sporting a trail-ready, windproof design and a water-resistant fabric, it\\'s ready to withstand any weather. The breathable polyester material and adjustable cuffs keep you comfortable, whether you\\'re ascending a mountain or strolling through a park. And its sleek black color adds style to function. The jacket features a full-zip front closure, adjustable hood, and secure zippered pockets. Experience the comfort of its inner lining and the convenience of its packable design. Crafted for night trekkers too, the jacket has reflective accents for enhanced visibility. Rugged yet chic, the Summit Breeze Jacket is more than a hiking essential, it\\'s the gear that inspires you to reach new heights. Choose adventure, choose the Summit Breeze Jacket.\",\"id\":12,\"name\":\"Summit Breeze Jacket\",\"productId\":3,\"quantity\":2,\"total\":240.0,\"unitprice\":120.0}],\"phone\":\"555-111-2222\"}},\"customer_data\":{\"_attachments\":\"attachments/\",\"_etag\":\"\\\\\"01006efd-0000-0100-0000-653c64140000\\\\\"\",\"_rid\":\"JjtiAM6RO-gGAAAAAAAAAA==\",\"_self\":\"dbs/JjtiAA==/colls/JjtiAM6RO-g=/docs/JjtiAM6RO-gGAAAAAAAAAA==/\",\"_ts\":1698456596,\"address\":\"987 Oak Ave,  Cityville USA, 56789\",\"age\":29,\"email\":\"emilyr@example.com\",\"firstName\":\"Emily\",\"id\":\"6\",\"lastName\":\"Rodriguez\",\"membership\":\"nan\",\"orders\":[{\"brand\":\"TrekReady\",\"category\":\"Hiking Footwear\",\"date\":\"3/30/2023\",\"description\":\"Meet the TrekReady TrailWalker Hiking Shoes, the ideal companion for all your outdoor adventures. Constructed with synthetic leather and breathable mesh, these shoes are tough as nails yet surprisingly airy. Their cushioned insoles offer fabulous comfort for long hikes, while the supportive midsoles and traction outsoles with multidirectional lugs ensure stability and excellent grip. A quick-lace system, padded collar and tongue, and reflective accents make these shoes a dream to wear. From combating rough terrain with the reinforced toe cap and heel, to keeping off trail debris with the protective mudguard, the TrailWalker Hiking Shoes have you covered. These waterproof warriors are made to endure all weather conditions. But they\\'re not just about being rugged, they\\'re light as a feather too, minimizing fatigue during epic hikes. Each pair can be customized for a perfect fit with removable insoles and availability in multiple sizes and widths. Navigate hikes comfortably and confidently with the TrailWalker Hiking Shoes. Adventure, here you come!\",\"id\":39,\"name\":\"TrailWalker Hiking Shoes\",\"productId\":11,\"quantity\":2,\"total\":220.0,\"unitprice\":110.0},{\"brand\":\"OutdoorLiving\",\"category\":\"Tents\",\"date\":\"3/18/2023\",\"description\":\"Unveiling the TrailMaster X4 Tent from OutdoorLiving, your home away from home for your next camping adventure. Crafted from durable polyester, this tent boasts a spacious interior perfect for four occupants. It ensures your dryness under drizzly skies thanks to its water-resistant construction, and the accompanying rainfly adds an extra layer of weather protection. It offers refreshing airflow and bug defence, courtesy of its mesh panels. Accessibility is not an issue with its multiple doors and interior pockets that keep small items tidy. Reflective guy lines grant better visibility at night, and the freestanding design simplifies setup and relocation. With the included carry bag, transporting this convenient abode becomes a breeze. Be it an overnight getaway or a week-long nature escapade, the TrailMaster X4 Tent provides comfort, convenience, and concord with the great outdoors. Comes with a two-year limited warranty to ensure customer satisfaction.\",\"id\":3,\"name\":\"TrailMaster X4 Tent\",\"productId\":1,\"quantity\":3,\"total\":750.0,\"unitprice\":250.0},{\"brand\":\"MountainStyle\",\"category\":\"Hiking Clothing\",\"date\":\"2/20/2023\",\"description\":\"Discover the joy of hiking with MountainStyle\\'s Summit Breeze Jacket. This lightweight jacket is your perfect companion for outdoor adventures. Sporting a trail-ready, windproof design and a water-resistant fabric, it\\'s ready to withstand any weather. The breathable polyester material and adjustable cuffs keep you comfortable, whether you\\'re ascending a mountain or strolling through a park. And its sleek black color adds style to function. The jacket features a full-zip front closure, adjustable hood, and secure zippered pockets. Experience the comfort of its inner lining and the convenience of its packable design. Crafted for night trekkers too, the jacket has reflective accents for enhanced visibility. Rugged yet chic, the Summit Breeze Jacket is more than a hiking essential, it\\'s the gear that inspires you to reach new heights. Choose adventure, choose the Summit Breeze Jacket.\",\"id\":12,\"name\":\"Summit Breeze Jacket\",\"productId\":3,\"quantity\":2,\"total\":240.0,\"unitprice\":120.0}],\"phone\":\"555-111-2222\"},\"query_rewrite\":\"The user would like to know how to wash the Summit Breeze Jacket they purchased.\"}\\n'\n",
      "2024-01-08 18:45:12 -0600   30664 execution.flow     INFO     Node run_chat_or_support completes.\n"
     ]
    }
   ],
   "source": [
    "# Add a question to test the base prompt flow.\n",
    "question = \"How do I wash the jacket I purchased?\"\n",
    "customerId = \"4\"\n",
    "output = pf_client.test(\n",
    "    flow=\"../contoso-intent\", # Path to the flow directory\n",
    "    inputs={ # Inputs to the flow\n",
    "        \"chat_history\": [],\n",
    "        \"question\": question,\n",
    "        \"customerId\": customerId,\n",
    "    },\n",
    ")\n",
    "\n",
    "output[\"answer\"] = \"\".join(list(output[\"answer\"]))"
   ]
  },
  {
   "cell_type": "code",
   "execution_count": 3,
   "metadata": {},
   "outputs": [
    {
     "data": {
      "text/plain": [
       "{'answer': '{\"answer\":\"Hi Emily! To wash the Summit Breeze Jacket you purchased, machine wash it on a gentle cycle with cold water and air dry it. Avoid using bleach or fabric softeners. \\\\ud83e\\\\uddfc\\\\ud83e\\\\uddfa Hope this helps! Let me know if you have any other questions. \\\\ud83d\\\\ude0a\",\"citations\":[{\"content\":\"# Information about product item_number: 17\\\\n\\\\nRainGuard Hiking Jacket, price $110,\\\\n\\\\n\\\\n\\\\nWear appropriate layers underneath the jacket based on the weather conditions.\\\\nAdjust the hood, cuffs, and hem to achieve a snug and comfortable fit.\\\\nUtilize the pockets for storing small items such as keys, wallet, or a mobile phone.\\\\nIf needed, open the ventilation zippers to regulate airflow and prevent overheating.\\\\nBe mindful of the jacket\\'s limitations in extreme weather conditions.\\\\n\\\\nCare and Maintenance\\\\n   To ensure the longevity and performance of your RainGuard Hiking Jacket, please adhere to the following care instructions:\\\\n\\\\nClean the jacket as needed following the manufacturer\\'s recommendations.\\\\nUse mild detergent and cold water for washing. Do not use bleach or harsh chemicals.\\\\nRinse the jacket thoroughly and allow it to air dry. Do not tumble dry.\\\\nStore the jacket in a cool, dry place when not in use.\\\\nRegularly inspect the jacket for any signs of damage and repair or replace as necessary.\",\"id\":\"251\"},{\"content\":\"# Information about product item_number: 3\\\\n\\\\nSummit Breeze Jacket, price $120,\\\\n\\\\n\\\\n\\\\nDo not use harsh chemicals: Avoid using harsh chemicals, solvents, or bleach when cleaning the Summit Breeze Jacket. These substances can damage the fabric, zippers, or other components of the jacket. Instead, follow the recommended care instructions provided in the user manual.\\\\n\\\\nDo not store the jacket when wet or damp: Before storing the jacket, ensure that it is completely dry. Storing the jacket when wet or damp can lead to the growth of mold, mildew, and unpleasant odors. Hang it up or lay it flat in a well-ventilated area until it is fully dry.\\\\n\\\\nAvoid excessive abrasion or friction: While the Summit Breeze Jacket is designed to be durable, excessive rubbing or friction against rough surfaces can cause premature wear or damage. Avoid continuous contact with abrasive materials to maintain the jacket\\'s integrity.\",\"id\":\"90\"},{\"content\":\"# Information about product item_number: 17\\\\n\\\\nRainGuard Hiking Jacket, price $110,\\\\n\\\\n\\\\n\\\\n76) Is the RainGuard Hiking Jacket true to size?\\\\n   Generally, the RainGuard Hiking Jacket fits true to size. However, it is advised to refer to the sizing chart provided by the manufacturer to ensure the best fit.\\\\n\\\\n77) Can the RainGuard Hiking Jacket be packed into its pocket for storage?\\\\n   Yes, the RainGuard Hiking Jacket can be packed into one of its zippered pockets, making it compact and easy to carry when not in use.\\\\n\\\\n78) How do I clean the RainGuard Hiking Jacket?\\\\n   To clean the RainGuard Hiking Jacket, machine wash it on a gentle cycle using cold water and mild detergent, then hang it to dry. Do not use bleach, fabric softeners, or dry cleaning, as they may damage the jacket\\'s performance.\",\"id\":\"260\"},{\"content\":\"# Information about product item_number: 3\\\\n\\\\nSummit Breeze Jacket, price $120,\\\\n\\\\n\\\\n\\\\n12) Are there any special care instructions for the Summit Breeze Jacket?\\\\n   To maintain the Summit Breeze Jacket, machine wash on a gentle cycle with cold water and air dry. Do not use bleach or fabric softeners.\\\\n\\\\n13) Does the Summit Breeze Jacket have any reflective elements for visibility?\\\\n   Yes, the Summit Breeze Jacket features reflective accents to help improve visibility in low-light conditions.\\\\n\\\\n14) Are the Summit Breeze Jacket\\'s cuffs adjustable for a better fit?\\\\n   Yes, the Summit Breeze Jacket has Velcro-adjustable cuffs to ensure a secure and comfortable fit.\\\\n\\\\n15) How breathable is the Summit Breeze Jacket during high-intensity activities?\\\\n   The Summit Breeze Jacket is made of a breathable polyester material, which allows moisture to escape while maintaining wind and water resistance.\",\"id\":\"97\"},{\"content\":\"# Information about product item_number: 17\\\\n\\\\nRainGuard Hiking Jacket, price $110,\\\\n\\\\n\\\\n\\\\nDo not expose to open flames or high heat: The RainGuard Hiking Jacket is not flame-resistant. Keep it away from open flames, campfires, and other high-heat sources to prevent damage.\\\\n\\\\nDo not store when wet: Always ensure the jacket is completely dry before storing it. Storing it while damp or wet can lead to mold, mildew, and unpleasant odors.\\\\n\\\\nDo not overload pockets: While the jacket has multiple pockets for storage, avoid overloading them with heavy or bulky items. Excessive weight in the pockets may strain the fabric or affect the jacket\\'s fit.\\\\n\\\\nDo not iron: Ironing the RainGuard Hiking Jacket can damage the fabric and its waterproof coating. If necessary, use a gentle heat setting or follow the manufacturer\\'s instructions.\\\\n\\\\nDo not make alterations: Avoid making any alterations or modifications to the jacket, such as cutting or sewing, as it may compromise its integrity and performance.\",\"id\":\"253\"},{\"content\":\"# Information about product item_number: 16\\\\n\\\\nTrailLite Daypack, price $60,\\\\n\\\\n\\\\n\\\\n73) How do I clean and maintain the TrailLite Daypack?\\\\n   To clean the TrailLite Daypack, simply hand wash it with mild soap and water, then air dry it away from direct sunlight. Avoid using bleach or machine washing to preserve the backpack\\'s durability.\\\\n\\\\n74) Can the TrailLite Daypack be used for daily commuting?\\\\n   While the TrailLite Daypack is designed primarily for outdoor activities, its multiple compartments, comfortable design, and hydration compatibility make it suitable for daily commuting as well.\",\"id\":\"195\"}],\"context\":{\"citations\":[{\"content\":\"# Information about product item_number: 17\\\\n\\\\nRainGuard Hiking Jacket, price $110,\\\\n\\\\n\\\\n\\\\nWear appropriate layers underneath the jacket based on the weather conditions.\\\\nAdjust the hood, cuffs, and hem to achieve a snug and comfortable fit.\\\\nUtilize the pockets for storing small items such as keys, wallet, or a mobile phone.\\\\nIf needed, open the ventilation zippers to regulate airflow and prevent overheating.\\\\nBe mindful of the jacket\\'s limitations in extreme weather conditions.\\\\n\\\\nCare and Maintenance\\\\n   To ensure the longevity and performance of your RainGuard Hiking Jacket, please adhere to the following care instructions:\\\\n\\\\nClean the jacket as needed following the manufacturer\\'s recommendations.\\\\nUse mild detergent and cold water for washing. Do not use bleach or harsh chemicals.\\\\nRinse the jacket thoroughly and allow it to air dry. Do not tumble dry.\\\\nStore the jacket in a cool, dry place when not in use.\\\\nRegularly inspect the jacket for any signs of damage and repair or replace as necessary.\",\"id\":\"251\"},{\"content\":\"# Information about product item_number: 3\\\\n\\\\nSummit Breeze Jacket, price $120,\\\\n\\\\n\\\\n\\\\nDo not use harsh chemicals: Avoid using harsh chemicals, solvents, or bleach when cleaning the Summit Breeze Jacket. These substances can damage the fabric, zippers, or other components of the jacket. Instead, follow the recommended care instructions provided in the user manual.\\\\n\\\\nDo not store the jacket when wet or damp: Before storing the jacket, ensure that it is completely dry. Storing the jacket when wet or damp can lead to the growth of mold, mildew, and unpleasant odors. Hang it up or lay it flat in a well-ventilated area until it is fully dry.\\\\n\\\\nAvoid excessive abrasion or friction: While the Summit Breeze Jacket is designed to be durable, excessive rubbing or friction against rough surfaces can cause premature wear or damage. Avoid continuous contact with abrasive materials to maintain the jacket\\'s integrity.\",\"id\":\"90\"},{\"content\":\"# Information about product item_number: 17\\\\n\\\\nRainGuard Hiking Jacket, price $110,\\\\n\\\\n\\\\n\\\\n76) Is the RainGuard Hiking Jacket true to size?\\\\n   Generally, the RainGuard Hiking Jacket fits true to size. However, it is advised to refer to the sizing chart provided by the manufacturer to ensure the best fit.\\\\n\\\\n77) Can the RainGuard Hiking Jacket be packed into its pocket for storage?\\\\n   Yes, the RainGuard Hiking Jacket can be packed into one of its zippered pockets, making it compact and easy to carry when not in use.\\\\n\\\\n78) How do I clean the RainGuard Hiking Jacket?\\\\n   To clean the RainGuard Hiking Jacket, machine wash it on a gentle cycle using cold water and mild detergent, then hang it to dry. Do not use bleach, fabric softeners, or dry cleaning, as they may damage the jacket\\'s performance.\",\"id\":\"260\"},{\"content\":\"# Information about product item_number: 3\\\\n\\\\nSummit Breeze Jacket, price $120,\\\\n\\\\n\\\\n\\\\n12) Are there any special care instructions for the Summit Breeze Jacket?\\\\n   To maintain the Summit Breeze Jacket, machine wash on a gentle cycle with cold water and air dry. Do not use bleach or fabric softeners.\\\\n\\\\n13) Does the Summit Breeze Jacket have any reflective elements for visibility?\\\\n   Yes, the Summit Breeze Jacket features reflective accents to help improve visibility in low-light conditions.\\\\n\\\\n14) Are the Summit Breeze Jacket\\'s cuffs adjustable for a better fit?\\\\n   Yes, the Summit Breeze Jacket has Velcro-adjustable cuffs to ensure a secure and comfortable fit.\\\\n\\\\n15) How breathable is the Summit Breeze Jacket during high-intensity activities?\\\\n   The Summit Breeze Jacket is made of a breathable polyester material, which allows moisture to escape while maintaining wind and water resistance.\",\"id\":\"97\"},{\"content\":\"# Information about product item_number: 17\\\\n\\\\nRainGuard Hiking Jacket, price $110,\\\\n\\\\n\\\\n\\\\nDo not expose to open flames or high heat: The RainGuard Hiking Jacket is not flame-resistant. Keep it away from open flames, campfires, and other high-heat sources to prevent damage.\\\\n\\\\nDo not store when wet: Always ensure the jacket is completely dry before storing it. Storing it while damp or wet can lead to mold, mildew, and unpleasant odors.\\\\n\\\\nDo not overload pockets: While the jacket has multiple pockets for storage, avoid overloading them with heavy or bulky items. Excessive weight in the pockets may strain the fabric or affect the jacket\\'s fit.\\\\n\\\\nDo not iron: Ironing the RainGuard Hiking Jacket can damage the fabric and its waterproof coating. If necessary, use a gentle heat setting or follow the manufacturer\\'s instructions.\\\\n\\\\nDo not make alterations: Avoid making any alterations or modifications to the jacket, such as cutting or sewing, as it may compromise its integrity and performance.\",\"id\":\"253\"},{\"content\":\"# Information about product item_number: 16\\\\n\\\\nTrailLite Daypack, price $60,\\\\n\\\\n\\\\n\\\\n73) How do I clean and maintain the TrailLite Daypack?\\\\n   To clean the TrailLite Daypack, simply hand wash it with mild soap and water, then air dry it away from direct sunlight. Avoid using bleach or machine washing to preserve the backpack\\'s durability.\\\\n\\\\n74) Can the TrailLite Daypack be used for daily commuting?\\\\n   While the TrailLite Daypack is designed primarily for outdoor activities, its multiple compartments, comfortable design, and hydration compatibility make it suitable for daily commuting as well.\",\"id\":\"195\"}],\"customer_data\":{\"_attachments\":\"attachments/\",\"_etag\":\"\\\\\"01006efd-0000-0100-0000-653c64140000\\\\\"\",\"_rid\":\"JjtiAM6RO-gGAAAAAAAAAA==\",\"_self\":\"dbs/JjtiAA==/colls/JjtiAM6RO-g=/docs/JjtiAM6RO-gGAAAAAAAAAA==/\",\"_ts\":1698456596,\"address\":\"987 Oak Ave,  Cityville USA, 56789\",\"age\":29,\"email\":\"emilyr@example.com\",\"firstName\":\"Emily\",\"id\":\"6\",\"lastName\":\"Rodriguez\",\"membership\":\"nan\",\"orders\":[{\"brand\":\"TrekReady\",\"category\":\"Hiking Footwear\",\"date\":\"3/30/2023\",\"description\":\"Meet the TrekReady TrailWalker Hiking Shoes, the ideal companion for all your outdoor adventures. Constructed with synthetic leather and breathable mesh, these shoes are tough as nails yet surprisingly airy. Their cushioned insoles offer fabulous comfort for long hikes, while the supportive midsoles and traction outsoles with multidirectional lugs ensure stability and excellent grip. A quick-lace system, padded collar and tongue, and reflective accents make these shoes a dream to wear. From combating rough terrain with the reinforced toe cap and heel, to keeping off trail debris with the protective mudguard, the TrailWalker Hiking Shoes have you covered. These waterproof warriors are made to endure all weather conditions. But they\\'re not just about being rugged, they\\'re light as a feather too, minimizing fatigue during epic hikes. Each pair can be customized for a perfect fit with removable insoles and availability in multiple sizes and widths. Navigate hikes comfortably and confidently with the TrailWalker Hiking Shoes. Adventure, here you come!\",\"id\":39,\"name\":\"TrailWalker Hiking Shoes\",\"productId\":11,\"quantity\":2,\"total\":220.0,\"unitprice\":110.0},{\"brand\":\"OutdoorLiving\",\"category\":\"Tents\",\"date\":\"3/18/2023\",\"description\":\"Unveiling the TrailMaster X4 Tent from OutdoorLiving, your home away from home for your next camping adventure. Crafted from durable polyester, this tent boasts a spacious interior perfect for four occupants. It ensures your dryness under drizzly skies thanks to its water-resistant construction, and the accompanying rainfly adds an extra layer of weather protection. It offers refreshing airflow and bug defence, courtesy of its mesh panels. Accessibility is not an issue with its multiple doors and interior pockets that keep small items tidy. Reflective guy lines grant better visibility at night, and the freestanding design simplifies setup and relocation. With the included carry bag, transporting this convenient abode becomes a breeze. Be it an overnight getaway or a week-long nature escapade, the TrailMaster X4 Tent provides comfort, convenience, and concord with the great outdoors. Comes with a two-year limited warranty to ensure customer satisfaction.\",\"id\":3,\"name\":\"TrailMaster X4 Tent\",\"productId\":1,\"quantity\":3,\"total\":750.0,\"unitprice\":250.0},{\"brand\":\"MountainStyle\",\"category\":\"Hiking Clothing\",\"date\":\"2/20/2023\",\"description\":\"Discover the joy of hiking with MountainStyle\\'s Summit Breeze Jacket. This lightweight jacket is your perfect companion for outdoor adventures. Sporting a trail-ready, windproof design and a water-resistant fabric, it\\'s ready to withstand any weather. The breathable polyester material and adjustable cuffs keep you comfortable, whether you\\'re ascending a mountain or strolling through a park. And its sleek black color adds style to function. The jacket features a full-zip front closure, adjustable hood, and secure zippered pockets. Experience the comfort of its inner lining and the convenience of its packable design. Crafted for night trekkers too, the jacket has reflective accents for enhanced visibility. Rugged yet chic, the Summit Breeze Jacket is more than a hiking essential, it\\'s the gear that inspires you to reach new heights. Choose adventure, choose the Summit Breeze Jacket.\",\"id\":12,\"name\":\"Summit Breeze Jacket\",\"productId\":3,\"quantity\":2,\"total\":240.0,\"unitprice\":120.0}],\"phone\":\"555-111-2222\"}},\"customer_data\":{\"_attachments\":\"attachments/\",\"_etag\":\"\\\\\"01006efd-0000-0100-0000-653c64140000\\\\\"\",\"_rid\":\"JjtiAM6RO-gGAAAAAAAAAA==\",\"_self\":\"dbs/JjtiAA==/colls/JjtiAM6RO-g=/docs/JjtiAM6RO-gGAAAAAAAAAA==/\",\"_ts\":1698456596,\"address\":\"987 Oak Ave,  Cityville USA, 56789\",\"age\":29,\"email\":\"emilyr@example.com\",\"firstName\":\"Emily\",\"id\":\"6\",\"lastName\":\"Rodriguez\",\"membership\":\"nan\",\"orders\":[{\"brand\":\"TrekReady\",\"category\":\"Hiking Footwear\",\"date\":\"3/30/2023\",\"description\":\"Meet the TrekReady TrailWalker Hiking Shoes, the ideal companion for all your outdoor adventures. Constructed with synthetic leather and breathable mesh, these shoes are tough as nails yet surprisingly airy. Their cushioned insoles offer fabulous comfort for long hikes, while the supportive midsoles and traction outsoles with multidirectional lugs ensure stability and excellent grip. A quick-lace system, padded collar and tongue, and reflective accents make these shoes a dream to wear. From combating rough terrain with the reinforced toe cap and heel, to keeping off trail debris with the protective mudguard, the TrailWalker Hiking Shoes have you covered. These waterproof warriors are made to endure all weather conditions. But they\\'re not just about being rugged, they\\'re light as a feather too, minimizing fatigue during epic hikes. Each pair can be customized for a perfect fit with removable insoles and availability in multiple sizes and widths. Navigate hikes comfortably and confidently with the TrailWalker Hiking Shoes. Adventure, here you come!\",\"id\":39,\"name\":\"TrailWalker Hiking Shoes\",\"productId\":11,\"quantity\":2,\"total\":220.0,\"unitprice\":110.0},{\"brand\":\"OutdoorLiving\",\"category\":\"Tents\",\"date\":\"3/18/2023\",\"description\":\"Unveiling the TrailMaster X4 Tent from OutdoorLiving, your home away from home for your next camping adventure. Crafted from durable polyester, this tent boasts a spacious interior perfect for four occupants. It ensures your dryness under drizzly skies thanks to its water-resistant construction, and the accompanying rainfly adds an extra layer of weather protection. It offers refreshing airflow and bug defence, courtesy of its mesh panels. Accessibility is not an issue with its multiple doors and interior pockets that keep small items tidy. Reflective guy lines grant better visibility at night, and the freestanding design simplifies setup and relocation. With the included carry bag, transporting this convenient abode becomes a breeze. Be it an overnight getaway or a week-long nature escapade, the TrailMaster X4 Tent provides comfort, convenience, and concord with the great outdoors. Comes with a two-year limited warranty to ensure customer satisfaction.\",\"id\":3,\"name\":\"TrailMaster X4 Tent\",\"productId\":1,\"quantity\":3,\"total\":750.0,\"unitprice\":250.0},{\"brand\":\"MountainStyle\",\"category\":\"Hiking Clothing\",\"date\":\"2/20/2023\",\"description\":\"Discover the joy of hiking with MountainStyle\\'s Summit Breeze Jacket. This lightweight jacket is your perfect companion for outdoor adventures. Sporting a trail-ready, windproof design and a water-resistant fabric, it\\'s ready to withstand any weather. The breathable polyester material and adjustable cuffs keep you comfortable, whether you\\'re ascending a mountain or strolling through a park. And its sleek black color adds style to function. The jacket features a full-zip front closure, adjustable hood, and secure zippered pockets. Experience the comfort of its inner lining and the convenience of its packable design. Crafted for night trekkers too, the jacket has reflective accents for enhanced visibility. Rugged yet chic, the Summit Breeze Jacket is more than a hiking essential, it\\'s the gear that inspires you to reach new heights. Choose adventure, choose the Summit Breeze Jacket.\",\"id\":12,\"name\":\"Summit Breeze Jacket\",\"productId\":3,\"quantity\":2,\"total\":240.0,\"unitprice\":120.0}],\"phone\":\"555-111-2222\"},\"query_rewrite\":\"The user would like to know how to wash the Summit Breeze Jacket they purchased.\"}\\n',\n",
       " 'intent_context': 'intent: support'}"
      ]
     },
     "execution_count": 3,
     "metadata": {},
     "output_type": "execute_result"
    }
   ],
   "source": [
    "output"
   ]
  },
  {
   "cell_type": "markdown",
   "metadata": {},
   "source": [
    "Test the groundedness of the prompt flow with the answer from the above question."
   ]
  },
  {
   "cell_type": "code",
   "execution_count": 4,
   "metadata": {},
   "outputs": [
    {
     "name": "stderr",
     "output_type": "stream",
     "text": [
      "[2024-01-08 18:45:29,177][promptflow][WARNING] - Unknown input(s) of flow: {'prediction': 'intent: support'}\n"
     ]
    },
    {
     "name": "stdout",
     "output_type": "stream",
     "text": [
      "2024-01-08 18:45:29 -0600   30664 execution.flow     INFO     Start executing nodes in thread pool mode.\n",
      "2024-01-08 18:45:29 -0600   30664 execution.flow     INFO     Start to run 3 nodes with concurrency level 16.\n",
      "2024-01-08 18:45:29 -0600   30664 execution.flow     INFO     Executing node llm_call. node run id: 0be4e512-3cfb-4356-87dd-63f0d305605a_llm_call_0\n",
      "2024-01-08 18:45:29 -0600   30664 execution.flow     INFO     Node llm_call completes.\n",
      "2024-01-08 18:45:29 -0600   30664 execution.flow     INFO     Executing node assert_value. node run id: 0be4e512-3cfb-4356-87dd-63f0d305605a_assert_value_0\n",
      "2024-01-08 18:45:29 -0600   30664 execution.flow     INFO     Node assert_value completes.\n",
      "2024-01-08 18:45:29 -0600   30664 execution.flow     INFO     Executing node get_accuracy. node run id: 0be4e512-3cfb-4356-87dd-63f0d305605a_get_accuracy_0\n",
      "2024-01-08 18:45:29 -0600   30664 execution.flow     INFO     Node get_accuracy completes.\n"
     ]
    }
   ],
   "source": [
    "test = pf_client.test(\n",
    "    flow=\"intent_eval\",\n",
    "    inputs={\n",
    "        \"question\": question,\n",
    "        \"prediction\": str(output[\"intent_context\"]),\n",
    "        \"groundtruth\": \"support\",\n",
    "    },\n",
    ")"
   ]
  },
  {
   "cell_type": "code",
   "execution_count": 5,
   "metadata": {},
   "outputs": [
    {
     "data": {
      "text/plain": [
       "{'results': {'accuracy': 100.0}}"
      ]
     },
     "execution_count": 5,
     "metadata": {},
     "output_type": "execute_result"
    }
   ],
   "source": [
    "test"
   ]
  },
  {
   "cell_type": "markdown",
   "metadata": {},
   "source": [
    "# AI Studio Azure batch run on an evaluation json dataset for intent mapping classification accuracy\n",
    "\n",
    "Now in order to test these more thoroughly, we can use the Azure AI Studio to run batches of test data with the evaluation prompt flow on a larger dataset."
   ]
  },
  {
   "cell_type": "code",
   "execution_count": 1,
   "metadata": {},
   "outputs": [],
   "source": [
    "import json\n",
    "# Import required libraries\n",
    "from promptflow.azure import PFClient\n",
    "\n",
    "# Import required libraries\n",
    "from azure.identity import DefaultAzureCredential, InteractiveBrowserCredential"
   ]
  },
  {
   "cell_type": "code",
   "execution_count": 2,
   "metadata": {},
   "outputs": [],
   "source": [
    "try:\n",
    "    credential = DefaultAzureCredential()\n",
    "    # Check if given credential can get token successfully.\n",
    "    credential.get_token(\"https://management.azure.com/.default\")\n",
    "except Exception as ex:\n",
    "    # Fall back to InteractiveBrowserCredential in case DefaultAzureCredential not work\n",
    "    credential = InteractiveBrowserCredential()"
   ]
  },
  {
   "cell_type": "markdown",
   "metadata": {},
   "source": [
    "Populate the `config.json` file with the subscription_id, resource_group, and workspace_name."
   ]
  },
  {
   "cell_type": "code",
   "execution_count": 3,
   "metadata": {},
   "outputs": [
    {
     "name": "stderr",
     "output_type": "stream",
     "text": [
      "Found the config file in: ..\\config.json\n"
     ]
    }
   ],
   "source": [
    "config_path = \"../config.json\"\n",
    "pf_azure_client = PFClient.from_config(credential=credential, path=config_path)"
   ]
  },
  {
   "cell_type": "markdown",
   "metadata": {},
   "source": [
    "Add the runtime from the AI Studio that will be used for the cloud batch runs."
   ]
  },
  {
   "cell_type": "code",
   "execution_count": 4,
   "metadata": {},
   "outputs": [],
   "source": [
    "# Update the runtime to the name of the runtime you created previously\n",
    "runtime = \"automatic\"\n",
    "# load flow\n",
    "flow = \"../contoso-intent\"\n",
    "# load data\n",
    "data = \"../data/alltestdata.jsonl\""
   ]
  },
  {
   "cell_type": "code",
   "execution_count": 5,
   "metadata": {},
   "outputs": [
    {
     "name": "stdout",
     "output_type": "stream",
     "text": [
      "2024_01_09_101416_intent_base_run\n"
     ]
    }
   ],
   "source": [
    "# get current time stamp for run name\n",
    "import datetime\n",
    "now = datetime.datetime.now()\n",
    "timestamp = now.strftime(\"%Y_%m_%d_%H%M%S\")\n",
    "run_name = timestamp+\"_intent_base_run\"\n",
    "print(run_name)"
   ]
  },
  {
   "cell_type": "markdown",
   "metadata": {},
   "source": [
    "Create a base run to use as the variant for the evaluation runs. \n",
    "\n",
    "_NOTE: If you get \"'An existing connection was forcibly closed by the remote host'\" run the cell again._"
   ]
  },
  {
   "cell_type": "code",
   "execution_count": 6,
   "metadata": {},
   "outputs": [
    {
     "name": "stderr",
     "output_type": "stream",
     "text": [
      "\u001b[32mUploading contoso-intent (0.12 MBs):  83%|########2 | 98330/119139 [00:00<00:00, 538467.75it/s][2024-01-09 10:14:19,348][promptflow][WARNING] - You're using automatic runtime, if it's first time you're using it, it may take a while to build runtime and request may fail with timeout error. Wait a while and resubmit same flow can successfully start the run.\n",
      "\u001b[32mUploading contoso-intent (0.12 MBs): 100%|##########| 119139/119139 [00:01<00:00, 75232.08it/s]\n",
      "\u001b[39m\n",
      "\n",
      "[2024-01-09 10:14:26,164][promptflow.azure._restclient.flow_service_caller][INFO] - Start polling until session creation is completed...\n"
     ]
    },
    {
     "name": "stdout",
     "output_type": "stream",
     "text": [
      "Waiting for session creation, current status: InProgress\n",
      "Waiting for session creation, current status: InProgress\n",
      "Waiting for session creation, current status: InProgress\n",
      "Waiting for session creation, current status: InProgress\n",
      "Waiting for session creation, current status: InProgress\n"
     ]
    },
    {
     "name": "stderr",
     "output_type": "stream",
     "text": [
      "[2024-01-09 10:18:26,978][promptflow.azure._restclient.flow_service_caller][INFO] - Session creation finished with status Succeeded.\n"
     ]
    },
    {
     "name": "stdout",
     "output_type": "stream",
     "text": [
      "Portal url: https://ai.azure.com/projectflows/bulkrun/run/2024_01_09_101416_intent_base_run/details?wsid=/subscriptions/91d27443-f037-45d9-bb0c-428256992df6/resourcegroups/rg-aitourcontosostore/providers/Microsoft.MachineLearningServices/workspaces/contoso-store\n",
      "name: 2024_01_09_101416_intent_base_run\n",
      "created_on: '2024-01-09T16:18:33.239005+00:00'\n",
      "status: Preparing\n",
      "display_name: 2024_01_09_101416_intent_base_run\n",
      "description: null\n",
      "tags: {}\n",
      "properties:\n",
      "  azureml.promptflow.runtime_name: automatic\n",
      "  azureml.promptflow.runtime_version: 20231218.v2\n",
      "  azureml.promptflow.definition_file_name: flow.dag.yaml\n",
      "  azureml.promptflow.session_id: c980f1d6de077e6432ed9ddd0187f8d8096d0f4faffa88e0\n",
      "  azureml.promptflow.flow_lineage_id: a31bf17848f3a357f1665ac0d316fbaee941549935ef1a1d0f3bc93fe92db52a\n",
      "  azureml.promptflow.flow_definition_datastore_name: workspaceblobstore\n",
      "  azureml.promptflow.flow_definition_blob_path: LocalUpload/49a7817a950e1f77272d75a859c3d850/contoso-intent/flow.dag.yaml\n",
      "  azureml.promptflow.inputs_mapping: '{\"customerId\":\"${data.customerId}\",\"question\":\"${data.question}\"}'\n",
      "  _azureml.evaluation_run: promptflow.BatchRun\n",
      "  azureml.promptflow.snapshot_id: c419a9bc-211e-4eea-b66b-5cc766c37960\n",
      "creation_context:\n",
      "  userObjectId: 50c2d972-de75-441d-ab86-ce5b387ed84a\n",
      "  userPuId: 1003200035704ECF\n",
      "  userIdp: null\n",
      "  userAltSecId: null\n",
      "  userIss: https://sts.windows.net/72f988bf-86f1-41af-91ab-2d7cd011db47/\n",
      "  userTenantId: 72f988bf-86f1-41af-91ab-2d7cd011db47\n",
      "  userName: Cassie Breviu\n",
      "  upn: null\n",
      "start_time: null\n",
      "end_time: null\n",
      "duration: null\n",
      "portal_url: https://ai.azure.com/projectflows/bulkrun/run/2024_01_09_101416_intent_base_run/details?wsid=/subscriptions/91d27443-f037-45d9-bb0c-428256992df6/resourcegroups/rg-aitourcontosostore/providers/Microsoft.MachineLearningServices/workspaces/contoso-store\n",
      "data: azureml://datastores/workspaceblobstore/paths/LocalUpload/672a459aa783c67862cab39658aab874/alltestdata.jsonl\n",
      "output: null\n",
      "\n"
     ]
    }
   ],
   "source": [
    "# create base run in Azure Ai Studio\n",
    "base_run = pf_azure_client.run(\n",
    "    flow=flow,\n",
    "    data=data,\n",
    "    column_mapping={\n",
    "        # reference data\n",
    "        \"customerId\": \"${data.customerId}\",\n",
    "        \"question\": \"${data.question}\",\n",
    "    },\n",
    "    runtime=runtime,\n",
    "    display_name=run_name,\n",
    "    name=run_name\n",
    ")\n",
    "print(base_run)"
   ]
  },
  {
   "cell_type": "code",
   "execution_count": 7,
   "metadata": {},
   "outputs": [
    {
     "name": "stdout",
     "output_type": "stream",
     "text": [
      "2024-01-09 16:18:39 +0000     135 promptflow-runtime INFO     [2024_01_09_101416_intent_base_run] Receiving v2 bulk run request 80e5e30f-1385-47a9-b1b0-9388810f3439: {\"flow_id\": \"2024_01_09_101416_intent_base_run\", \"flow_run_id\": \"2024_01_09_101416_intent_base_run\", \"flow_source\": {\"flow_source_type\": 1, \"flow_source_info\": {\"snapshot_id\": \"c419a9bc-211e-4eea-b66b-5cc766c37960\"}, \"flow_dag_file\": \"flow.dag.yaml\"}, \"connections\": \"**data_scrubbed**\", \"log_path\": \"https://staitourcont008192701846.blob.core.windows.net/8a82542e-6930-4508-aafa-2285e571f07b-azureml/ExperimentRun/dcid.2024_01_09_101416_intent_base_run/logs/azureml/executionlogs.txt?sv=2019-07-07&sr=b&sig=**data_scrubbed**&skoid=db45885e-fcc8-4eb9-b2b3-f2c33cd507f5&sktid=72f988bf-86f1-41af-91ab-2d7cd011db47&skt=2024-01-09T16%3A08%3A32Z&ske=2024-01-11T00%3A18%3A32Z&sks=b&skv=2019-07-07&st=2024-01-09T16%3A08%3A39Z&se=2024-01-10T00%3A18%3A39Z&sp=rcw\", \"app_insights_instrumentation_key\": \"InstrumentationKey=**data_scrubbed**;IngestionEndpoint=https://eastus-6.in.applicationinsights.azure.com/;LiveEndpoint=https://eastus.livediagnostics.monitor.azure.com/\", \"data_inputs\": {\"data\": \"azureml://datastores/workspaceblobstore/paths/LocalUpload/672a459aa783c67862cab39658aab874/alltestdata.jsonl\"}, \"inputs_mapping\": {\"customerId\": \"${data.customerId}\", \"question\": \"${data.question}\"}, \"azure_storage_setting\": {\"azure_storage_mode\": 1, \"storage_account_name\": \"staitourcont008192701846\", \"blob_container_name\": \"8a82542e-6930-4508-aafa-2285e571f07b-azureml-blobstore\", \"flow_artifacts_root_path\": \"promptflow/PromptFlowArtifacts/2024_01_09_101416_intent_base_run\", \"blob_container_sas_token\": \"?sv=2019-07-07&sr=c&sig=**data_scrubbed**&skoid=db45885e-fcc8-4eb9-b2b3-f2c33cd507f5&sktid=72f988bf-86f1-41af-91ab-2d7cd011db47&skt=2024-01-09T16%3A18%3A39Z&ske=2024-01-16T16%3A18%3A39Z&sks=b&skv=2019-07-07&se=2024-01-16T16%3A18%3A39Z&sp=racwl\", \"output_datastore_name\": \"workspaceblobstore\"}}\n",
      "2024-01-09 16:18:39 +0000     135 promptflow-runtime INFO     Runtime version: 20231218.v2. PromptFlow version: 1.3.0rc2\n",
      "2024-01-09 16:18:40 +0000     135 promptflow-runtime INFO     Updating 2024_01_09_101416_intent_base_run to Status.Preparing...\n",
      "2024-01-09 16:18:40 +0000     135 promptflow-runtime INFO     Downloading snapshot to /mnt/host/service/app/34397/requests/2024_01_09_101416_intent_base_run\n",
      "2024-01-09 16:18:40 +0000     135 promptflow-runtime INFO     Get snapshot sas url for c419a9bc-211e-4eea-b66b-5cc766c37960...\n",
      "2024-01-09 16:18:46 +0000     135 promptflow-runtime INFO     Downloading snapshot c419a9bc-211e-4eea-b66b-5cc766c37960 from uri https://staitourcont008192701846.blob.core.windows.net/8a82542e-6930-4508-aafa-2285e571f07b-snapshotzips/contoso-store:8a82542e-6930-4508-aafa-2285e571f07b:snapshotzip/c419a9bc-211e-4eea-b66b-5cc766c37960.zip...\n",
      "2024-01-09 16:18:47 +0000     135 promptflow-runtime INFO     Downloaded file /mnt/host/service/app/34397/requests/2024_01_09_101416_intent_base_run/c419a9bc-211e-4eea-b66b-5cc766c37960.zip with size 17753 for snapshot c419a9bc-211e-4eea-b66b-5cc766c37960.\n",
      "2024-01-09 16:18:47 +0000     135 promptflow-runtime INFO     Download snapshot c419a9bc-211e-4eea-b66b-5cc766c37960 completed.\n",
      "2024-01-09 16:18:47 +0000     135 promptflow-runtime INFO     Successfully download snapshot to /mnt/host/service/app/34397/requests/2024_01_09_101416_intent_base_run\n",
      "2024-01-09 16:18:47 +0000     135 promptflow-runtime INFO     About to execute a python flow.\n",
      "2024-01-09 16:18:47 +0000     135 promptflow-runtime INFO     Use spawn method to start child process.\n",
      "2024-01-09 16:18:47 +0000     135 promptflow-runtime INFO     Starting to check process 246 status for run 2024_01_09_101416_intent_base_run\n",
      "2024-01-09 16:18:47 +0000     135 promptflow-runtime INFO     Start checking run status for run 2024_01_09_101416_intent_base_run\n",
      "2024-01-09 16:18:51 +0000     246 promptflow-runtime INFO     [135--246] Start processing flowV2......\n",
      "2024-01-09 16:18:51 +0000     246 promptflow-runtime INFO     Runtime version: 20231218.v2. PromptFlow version: 1.3.0rc2\n",
      "2024-01-09 16:18:51 +0000     246 promptflow-runtime INFO     Setting mlflow tracking uri...\n",
      "2024-01-09 16:18:51 +0000     246 promptflow-runtime INFO     Validating 'AzureML Data Scientist' user authentication...\n",
      "2024-01-09 16:18:52 +0000     246 promptflow-runtime INFO     Successfully validated 'AzureML Data Scientist' user authentication.\n",
      "2024-01-09 16:18:52 +0000     246 promptflow-runtime INFO     Using AzureMLRunStorageV2\n",
      "2024-01-09 16:18:52 +0000     246 promptflow-runtime INFO     Setting mlflow tracking uri to 'azureml://eastus.api.azureml.ms/mlflow/v1.0/subscriptions/91d27443-f037-45d9-bb0c-428256992df6/resourceGroups/rg-aitourcontosostore/providers/Microsoft.MachineLearningServices/workspaces/contoso-store'\n",
      "2024-01-09 16:18:52 +0000     246 promptflow-runtime INFO     Initialized blob service client for AzureMLRunTracker.\n",
      "2024-01-09 16:18:52 +0000     246 promptflow-runtime INFO     Setting mlflow tracking uri to 'azureml://eastus.api.azureml.ms/mlflow/v1.0/subscriptions/91d27443-f037-45d9-bb0c-428256992df6/resourceGroups/rg-aitourcontosostore/providers/Microsoft.MachineLearningServices/workspaces/contoso-store'\n",
      "2024-01-09 16:18:52 +0000     246 promptflow-runtime INFO     Resolve data from url finished in 0.5629215339999973 seconds\n",
      "2024-01-09 16:18:53 +0000     246 promptflow-runtime INFO     Starting the aml run '2024_01_09_101416_intent_base_run'...\n",
      "2024-01-09 16:18:53 +0000     246 execution.bulk     INFO     Set process count to 12 by taking the minimum value among the factors of {'default_worker_count': 16, 'row_count': 12}.\n",
      "2024-01-09 16:18:53 +0000     324 execution.bulk     INFO     Process 324 started.\n",
      "2024-01-09 16:18:53 +0000     330 execution.bulk     INFO     Process 330 started.\n",
      "2024-01-09 16:18:53 +0000     246 execution.bulk     INFO     Process name: ForkProcess-4:2, Process id: 324, Line number: 0 start execution.\n",
      "2024-01-09 16:18:53 +0000     347 execution.bulk     INFO     Process 347 started.\n",
      "2024-01-09 16:18:53 +0000     337 execution.bulk     INFO     Process 337 started.\n",
      "2024-01-09 16:18:53 +0000     246 execution.bulk     INFO     Process name: ForkProcess-4:3, Process id: 330, Line number: 1 start execution.\n",
      "2024-01-09 16:18:53 +0000     246 execution.bulk     INFO     Process name: ForkProcess-4:5, Process id: 347, Line number: 2 start execution.\n",
      "2024-01-09 16:18:53 +0000     246 execution.bulk     INFO     Process name: ForkProcess-4:6, Process id: 337, Line number: 3 start execution.\n",
      "2024-01-09 16:18:53 +0000     363 execution.bulk     INFO     Process 363 started.\n",
      "2024-01-09 16:18:53 +0000     359 execution.bulk     INFO     Process 359 started.\n",
      "2024-01-09 16:18:54 +0000     246 execution.bulk     INFO     Process name: ForkProcess-4:9, Process id: 363, Line number: 4 start execution.\n",
      "2024-01-09 16:18:53 +0000     361 execution.bulk     INFO     Process 361 started.\n",
      "2024-01-09 16:18:54 +0000     246 execution.bulk     INFO     Process name: ForkProcess-4:4, Process id: 359, Line number: 5 start execution.\n",
      "2024-01-09 16:18:54 +0000     246 execution.bulk     INFO     Process name: ForkProcess-4:7, Process id: 361, Line number: 6 start execution.\n",
      "2024-01-09 16:18:53 +0000     369 execution.bulk     INFO     Process 369 started.\n",
      "2024-01-09 16:18:54 +0000     370 execution.bulk     INFO     Process 370 started.\n",
      "2024-01-09 16:18:54 +0000     381 execution.bulk     INFO     Process 381 started.\n",
      "2024-01-09 16:18:53 +0000     374 execution.bulk     INFO     Process 374 started.\n",
      "2024-01-09 16:18:54 +0000     246 execution.bulk     INFO     Process name: ForkProcess-4:8, Process id: 369, Line number: 7 start execution.\n",
      "2024-01-09 16:18:54 +0000     388 execution.bulk     INFO     Process 388 started.\n",
      "2024-01-09 16:18:54 +0000     246 execution.bulk     INFO     Process name: ForkProcess-4:10, Process id: 370, Line number: 8 start execution.\n",
      "2024-01-09 16:18:54 +0000     246 execution.bulk     INFO     Process name: ForkProcess-4:11, Process id: 374, Line number: 9 start execution.\n",
      "2024-01-09 16:18:54 +0000     246 execution.bulk     INFO     Process name: ForkProcess-4:12, Process id: 381, Line number: 10 start execution.\n",
      "2024-01-09 16:18:54 +0000     324 execution          ERROR    Node run_chat_or_support in line 0 failed. Exception: Execution failure in 'run_chat_or_support': (JSONDecodeError) Expecting value: line 1 column 1 (char 0).\n",
      "Traceback (most recent call last):\n",
      "  File \"/azureml-envs/prompt-flow/runtime/lib/python3.9/site-packages/promptflow/_core/flow_execution_context.py\", line 185, in _invoke_tool_with_timer\n",
      "    return f(**kwargs)\n",
      "  File \"/azureml-envs/prompt-flow/runtime/lib/python3.9/site-packages/promptflow/_core/tool.py\", line 106, in decorated_tool\n",
      "    output = func(*args, **kwargs)\n",
      "  File \"/mnt/host/service/app/34397/requests/2024_01_09_101416_intent_base_run/run_chat_or_support_flow.py\", line 83, in run_chat_or_support_flow\n",
      "    data = json.loads(result)\n",
      "  File \"/azureml-envs/prompt-flow/runtime/lib/python3.9/json/__init__.py\", line 346, in loads\n",
      "    return _default_decoder.decode(s)\n",
      "  File \"/azureml-envs/prompt-flow/runtime/lib/python3.9/json/decoder.py\", line 337, in decode\n",
      "    obj, end = self.raw_decode(s, idx=_w(s, 0).end())\n",
      "  File \"/azureml-envs/prompt-flow/runtime/lib/python3.9/json/decoder.py\", line 355, in raw_decode\n",
      "    raise JSONDecodeError(\"Expecting value\", s, err.value) from None\n",
      "json.decoder.JSONDecodeError: Expecting value: line 1 column 1 (char 0)\n",
      "\n",
      "The above exception was the direct cause of the following exception:\n",
      "\n",
      "Traceback (most recent call last):\n",
      "  File \"/azureml-envs/prompt-flow/runtime/lib/python3.9/site-packages/promptflow/_core/flow_execution_context.py\", line 89, in invoke_tool\n",
      "    result = self._invoke_tool_with_timer(node, f, kwargs)\n",
      "  File \"/azureml-envs/prompt-flow/runtime/lib/python3.9/site-packages/promptflow/_core/flow_execution_context.py\", line 196, in _invoke_tool_with_timer\n",
      "    raise ToolExecutionError(node_name=node_name, module=module) from e\n",
      "promptflow._core._errors.ToolExecutionError: Execution failure in 'run_chat_or_support': (JSONDecodeError) Expecting value: line 1 column 1 (char 0)\n",
      "2024-01-09 16:18:54 +0000     324 execution          ERROR    Execution of one node has failed. Cancelling all running nodes: run_chat_or_support.\n",
      "2024-01-09 16:18:54 +0000     337 execution          ERROR    Node run_chat_or_support in line 3 failed. Exception: Execution failure in 'run_chat_or_support': (JSONDecodeError) Expecting value: line 1 column 1 (char 0).\n",
      "Traceback (most recent call last):\n",
      "  File \"/azureml-envs/prompt-flow/runtime/lib/python3.9/site-packages/promptflow/_core/flow_execution_context.py\", line 185, in _invoke_tool_with_timer\n",
      "    return f(**kwargs)\n",
      "  File \"/azureml-envs/prompt-flow/runtime/lib/python3.9/site-packages/promptflow/_core/tool.py\", line 106, in decorated_tool\n",
      "    output = func(*args, **kwargs)\n",
      "  File \"/mnt/host/service/app/34397/requests/2024_01_09_101416_intent_base_run/run_chat_or_support_flow.py\", line 83, in run_chat_or_support_flow\n",
      "    data = json.loads(result)\n",
      "  File \"/azureml-envs/prompt-flow/runtime/lib/python3.9/json/__init__.py\", line 346, in loads\n",
      "    return _default_decoder.decode(s)\n",
      "  File \"/azureml-envs/prompt-flow/runtime/lib/python3.9/json/decoder.py\", line 337, in decode\n",
      "    obj, end = self.raw_decode(s, idx=_w(s, 0).end())\n",
      "  File \"/azureml-envs/prompt-flow/runtime/lib/python3.9/json/decoder.py\", line 355, in raw_decode\n",
      "    raise JSONDecodeError(\"Expecting value\", s, err.value) from None\n",
      "json.decoder.JSONDecodeError: Expecting value: line 1 column 1 (char 0)\n",
      "\n",
      "The above exception was the direct cause of the following exception:\n",
      "\n",
      "Traceback (most recent call last):\n",
      "  File \"/azureml-envs/prompt-flow/runtime/lib/python3.9/site-packages/promptflow/_core/flow_execution_context.py\", line 89, in invoke_tool\n",
      "    result = self._invoke_tool_with_timer(node, f, kwargs)\n",
      "  File \"/azureml-envs/prompt-flow/runtime/lib/python3.9/site-packages/promptflow/_core/flow_execution_context.py\", line 196, in _invoke_tool_with_timer\n",
      "    raise ToolExecutionError(node_name=node_name, module=module) from e\n",
      "promptflow._core._errors.ToolExecutionError: Execution failure in 'run_chat_or_support': (JSONDecodeError) Expecting value: line 1 column 1 (char 0)\n",
      "2024-01-09 16:18:54 +0000     337 execution          ERROR    Execution of one node has failed. Cancelling all running nodes: run_chat_or_support.\n",
      "2024-01-09 16:18:54 +0000     246 execution.bulk     INFO     Process name: ForkProcess-4:2, Process id: 324, Line number: 0 completed.\n",
      "2024-01-09 16:18:54 +0000     246 execution.bulk     INFO     Finished 1 / 12 lines.\n",
      "2024-01-09 16:18:54 +0000     246 execution.bulk     INFO     Average execution time for completed lines: 0.77 seconds. Estimated time for incomplete lines: 8.47 seconds.\n",
      "2024-01-09 16:18:54 +0000     246 execution.bulk     INFO     Process name: ForkProcess-4:2, Process id: 324, Line number: 11 start execution.\n",
      "2024-01-09 16:18:54 +0000     246 execution.bulk     INFO     Process name: ForkProcess-4:4, Process id: 359, Line number: 5 completed.\n",
      "2024-01-09 16:18:54 +0000     246 execution.bulk     INFO     Process name: ForkProcess-4:6, Process id: 337, Line number: 3 completed.\n",
      "2024-01-09 16:18:54 +0000     246 execution.bulk     INFO     Finished 3 / 12 lines.\n",
      "2024-01-09 16:18:54 +0000     246 execution.bulk     INFO     Finished 3 / 12 lines.\n",
      "2024-01-09 16:18:54 +0000     246 execution.bulk     INFO     Process name: ForkProcess-4:7, Process id: 361, Line number: 6 completed.\n",
      "2024-01-09 16:18:54 +0000     246 execution.bulk     INFO     Average execution time for completed lines: 0.3 seconds. Estimated time for incomplete lines: 2.7 seconds.\n",
      "2024-01-09 16:18:54 +0000     246 execution.bulk     INFO     Average execution time for completed lines: 0.3 seconds. Estimated time for incomplete lines: 2.7 seconds.\n",
      "2024-01-09 16:18:54 +0000     246 execution.bulk     INFO     Finished 4 / 12 lines.\n",
      "2024-01-09 16:18:54 +0000     246 execution.bulk     INFO     Average execution time for completed lines: 0.24 seconds. Estimated time for incomplete lines: 1.92 seconds.\n",
      "2024-01-09 16:18:54 +0000     246 execution.bulk     INFO     Process name: ForkProcess-4:9, Process id: 363, Line number: 4 completed.\n",
      "2024-01-09 16:18:54 +0000     246 execution.bulk     INFO     Process name: ForkProcess-4:12, Process id: 381, Line number: 10 completed.\n",
      "2024-01-09 16:18:54 +0000     246 execution.bulk     INFO     Process name: ForkProcess-4:10, Process id: 370, Line number: 8 completed.\n",
      "2024-01-09 16:18:54 +0000     246 execution.bulk     INFO     Finished 7 / 12 lines.\n",
      "2024-01-09 16:18:54 +0000     246 execution.bulk     INFO     Finished 7 / 12 lines.\n",
      "2024-01-09 16:18:54 +0000     246 execution.bulk     INFO     Finished 7 / 12 lines.\n",
      "2024-01-09 16:18:54 +0000     246 execution.bulk     INFO     Average execution time for completed lines: 0.15 seconds. Estimated time for incomplete lines: 0.75 seconds.\n",
      "2024-01-09 16:18:54 +0000     246 execution.bulk     INFO     Process name: ForkProcess-4:2, Process id: 324, Line number: 11 completed.\n",
      "2024-01-09 16:18:54 +0000     246 execution.bulk     INFO     Average execution time for completed lines: 0.15 seconds. Estimated time for incomplete lines: 0.75 seconds.\n",
      "2024-01-09 16:18:54 +0000     246 execution.bulk     INFO     Average execution time for completed lines: 0.16 seconds. Estimated time for incomplete lines: 0.8 seconds.\n",
      "2024-01-09 16:18:54 +0000     246 execution.bulk     INFO     Finished 8 / 12 lines.\n",
      "2024-01-09 16:18:54 +0000     246 execution.bulk     INFO     Average execution time for completed lines: 0.15 seconds. Estimated time for incomplete lines: 0.6 seconds.\n",
      "2024-01-09 16:18:56 +0000     246 execution.bulk     INFO     Process name: ForkProcess-4:8, Process id: 369, Line number: 7 completed.\n",
      "2024-01-09 16:18:56 +0000     246 execution.bulk     INFO     Finished 9 / 12 lines.\n",
      "2024-01-09 16:18:56 +0000     246 execution.bulk     INFO     Average execution time for completed lines: 0.32 seconds. Estimated time for incomplete lines: 0.96 seconds.\n",
      "2024-01-09 16:18:56 +0000     246 execution.bulk     INFO     Process name: ForkProcess-4:3, Process id: 330, Line number: 1 completed.\n",
      "2024-01-09 16:18:56 +0000     246 execution.bulk     INFO     Finished 10 / 12 lines.\n",
      "2024-01-09 16:18:56 +0000     246 execution.bulk     INFO     Average execution time for completed lines: 0.3 seconds. Estimated time for incomplete lines: 0.6 seconds.\n",
      "2024-01-09 16:18:58 +0000     246 execution.bulk     INFO     Process name: ForkProcess-4:5, Process id: 347, Line number: 2 completed.\n",
      "2024-01-09 16:18:58 +0000     246 execution.bulk     INFO     Finished 11 / 12 lines.\n",
      "2024-01-09 16:18:58 +0000     246 execution.bulk     INFO     Average execution time for completed lines: 0.42 seconds. Estimated time for incomplete lines: 0.42 seconds.\n",
      "2024-01-09 16:18:58 +0000     246 execution.bulk     INFO     Process name: ForkProcess-4:11, Process id: 374, Line number: 9 completed.\n",
      "2024-01-09 16:18:58 +0000     246 execution.bulk     INFO     Finished 12 / 12 lines.\n",
      "2024-01-09 16:18:58 +0000     246 execution.bulk     INFO     Average execution time for completed lines: 0.43 seconds. Estimated time for incomplete lines: 0.0 seconds.\n",
      "(Run status is 'Running', continue streaming...)\n",
      "2024-01-09 16:19:24 +0000     246 execution          ERROR    10/12 flow run failed, indexes: [0,3,4,5,6,7,8,9,10,11], exception of index 0: Execution failure in 'run_chat_or_support': (JSONDecodeError) Expecting value: line 1 column 1 (char 0)\n",
      "2024-01-09 16:19:27 +0000     246 execution.bulk     INFO     Upload status summary metrics for run 2024_01_09_101416_intent_base_run finished in 2.9886643600000298 seconds\n",
      "2024-01-09 16:19:28 +0000     246 promptflow-runtime INFO     Successfully write run properties {\"azureml.promptflow.total_tokens\": 2650, \"_azureml.evaluate_artifacts\": \"[{\\\"path\\\": \\\"instance_results.jsonl\\\", \\\"type\\\": \\\"table\\\"}]\"} with run id '2024_01_09_101416_intent_base_run'\n",
      "2024-01-09 16:19:28 +0000     246 execution.bulk     INFO     Upload RH properties for run 2024_01_09_101416_intent_base_run finished in 0.07263026099997205 seconds\n",
      "2024-01-09 16:19:28 +0000     246 promptflow-runtime INFO     Creating unregistered output Asset for Run 2024_01_09_101416_intent_base_run...\n",
      "2024-01-09 16:19:28 +0000     246 promptflow-runtime INFO     Created debug_info Asset: azureml://locations/eastus/workspaces/8a82542e-6930-4508-aafa-2285e571f07b/data/azureml_2024_01_09_101416_intent_base_run_output_data_debug_info/versions/1\n",
      "2024-01-09 16:19:28 +0000     246 promptflow-runtime INFO     Creating unregistered output Asset for Run 2024_01_09_101416_intent_base_run...\n",
      "2024-01-09 16:19:28 +0000     246 promptflow-runtime INFO     Created flow_outputs output Asset: azureml://locations/eastus/workspaces/8a82542e-6930-4508-aafa-2285e571f07b/data/azureml_2024_01_09_101416_intent_base_run_output_data_flow_outputs/versions/1\n",
      "2024-01-09 16:19:28 +0000     246 promptflow-runtime INFO     Creating Artifact for Run 2024_01_09_101416_intent_base_run...\n",
      "2024-01-09 16:19:28 +0000     246 promptflow-runtime INFO     Created instance_results.jsonl Artifact.\n",
      "2024-01-09 16:19:28 +0000     246 promptflow-runtime INFO     Patching 2024_01_09_101416_intent_base_run...\n",
      "2024-01-09 16:19:28 +0000     246 promptflow-runtime WARNING  [2024_01_09_101416_intent_base_run] Run failed. Execution stackTrace: Traceback (most recent call last):\n",
      "  File \"/azureml-envs/prompt-flow/runtime/lib/python3.9/site-packages/promptflow/_core/flow_execution_context.py\", line 185, in _invoke_tool_with_timer\n",
      "    return f(**kwargs)\n",
      "  File \"/azureml-envs/prompt-flow/runtime/lib/python3.9/site-packages/promptflow/_core/tool.py\", line 106, in decorated_tool\n",
      "    output = func(*args, **kwargs)\n",
      "  [REDACTED: External StackTrace]\n",
      "\n",
      "The above exception was the direct cause of the following exception:\n",
      "\n",
      "Traceback (most recent call last):\n",
      "  File \"/azureml-envs/prompt-flow/runtime/lib/python3.9/site-packages/promptflow/executor/flow_executor.py\", line 796, in _exec\n",
      "    output, nodes_outputs = self._traverse_nodes(inputs, context)\n",
      "  File \"/azureml-envs/prompt-flow/runtime/lib/python3.9/site-packages/promptflow/executor/flow_executor.py\", line 884, in _traverse_nodes\n",
      "    nodes_outputs, bypassed_nodes = self._submit_to_scheduler(context, inputs, batch_nodes)\n",
      "  File \"/azureml-envs/prompt-flow/runtime/lib/python3.9/site-packages/promptflow/executor/flow_executor.py\", line 904, in _submit_to_scheduler\n",
      "    return FlowNodesScheduler(self._tools_manager, inputs, nodes, self._node_concurrency, context).execute()\n",
      "  File \"/azureml-envs/prompt-flow/runtime/lib/python3.9/site-packages/promptflow/executor/_flow_nodes_scheduler.py\", line 69, in execute\n",
      "    raise e\n",
      "  File \"/azureml-envs/prompt-flow/runtime/lib/python3.9/site-packages/promptflow/executor/_flow_nodes_scheduler.py\", line 58, in execute\n",
      "    self._dag_manager.complete_nodes(self._collect_outputs(completed_futures))\n",
      "  File \"/azureml-envs/prompt-flow/runtime/lib/python3.9/site-packages/promptflow/executor/_flow_nodes_scheduler.py\", line 90, in _collect_outputs\n",
      "    each_node_result = each_future.result()\n",
      "  [REDACTED: External StackTrace]\n",
      "\n",
      "2024-01-09 16:19:28 +0000     246 promptflow-runtime INFO     Ending the aml run '2024_01_09_101416_intent_base_run' with status 'Completed'...\n",
      "2024-01-09 16:19:30 +0000     135 promptflow-runtime INFO     Process 246 finished\n",
      "2024-01-09 16:19:30 +0000     135 promptflow-runtime INFO     [135] Child process finished!\n",
      "2024-01-09 16:19:30 +0000     135 promptflow-runtime INFO     [2024_01_09_101416_intent_base_run] End processing bulk run\n",
      "2024-01-09 16:19:30 +0000     135 promptflow-runtime ERROR    Submit flow request failed Code: 400 InnerException type: ToolExecutionError Exception type hierarchy: UserError/ToolExecutionError\n",
      "2024-01-09 16:19:30 +0000     135 promptflow-runtime INFO     Cleanup working dir /mnt/host/service/app/34397/requests/2024_01_09_101416_intent_base_run for bulk run\n",
      "======= Run Summary =======\n",
      "Run name: \"2024_01_09_101416_intent_base_run\"\n",
      "Run status: \"Completed\"\n",
      "Start time: \"2024-01-09 16:18:53.346889+00:00\"\n",
      "Duration: \"0:00:35.624610\"\n",
      "Run url: \"https://ai.azure.com/projectflows/bulkrun/run/2024_01_09_101416_intent_base_run/details?wsid=/subscriptions/91d27443-f037-45d9-bb0c-428256992df6/resourcegroups/rg-aitourcontosostore/providers/Microsoft.MachineLearningServices/workspaces/contoso-store\""
     ]
    },
    {
     "data": {
      "text/plain": [
       "<promptflow._sdk.entities._run.Run at 0x14e722eea90>"
      ]
     },
     "execution_count": 7,
     "metadata": {},
     "output_type": "execute_result"
    }
   ],
   "source": [
    "pf_azure_client.stream(base_run)"
   ]
  },
  {
   "cell_type": "code",
   "execution_count": 8,
   "metadata": {},
   "outputs": [
    {
     "data": {
      "text/html": [
       "<div>\n",
       "<style scoped>\n",
       "    .dataframe tbody tr th:only-of-type {\n",
       "        vertical-align: middle;\n",
       "    }\n",
       "\n",
       "    .dataframe tbody tr th {\n",
       "        vertical-align: top;\n",
       "    }\n",
       "\n",
       "    .dataframe thead th {\n",
       "        text-align: right;\n",
       "    }\n",
       "</style>\n",
       "<table border=\"1\" class=\"dataframe\">\n",
       "  <thead>\n",
       "    <tr style=\"text-align: right;\">\n",
       "      <th></th>\n",
       "      <th>inputs.chat_history</th>\n",
       "      <th>inputs.customerId</th>\n",
       "      <th>inputs.question</th>\n",
       "      <th>inputs.line_number</th>\n",
       "      <th>outputs.answer</th>\n",
       "      <th>outputs.intent_context</th>\n",
       "      <th>outputs.context</th>\n",
       "    </tr>\n",
       "    <tr>\n",
       "      <th>outputs.line_number</th>\n",
       "      <th></th>\n",
       "      <th></th>\n",
       "      <th></th>\n",
       "      <th></th>\n",
       "      <th></th>\n",
       "      <th></th>\n",
       "      <th></th>\n",
       "    </tr>\n",
       "  </thead>\n",
       "  <tbody>\n",
       "    <tr>\n",
       "      <th>0</th>\n",
       "      <td>[]</td>\n",
       "      <td>7</td>\n",
       "      <td>what is the temperature rating of my sleeping ...</td>\n",
       "      <td>0</td>\n",
       "      <td>None</td>\n",
       "      <td>None</td>\n",
       "      <td>None</td>\n",
       "    </tr>\n",
       "    <tr>\n",
       "      <th>1</th>\n",
       "      <td>[]</td>\n",
       "      <td>6</td>\n",
       "      <td>is the jacket I bought machine washable?</td>\n",
       "      <td>5</td>\n",
       "      <td>Hi Emily! The CozyNights Sleeping Bag has a te...</td>\n",
       "      <td>intent: support</td>\n",
       "      <td>{'citations': [{'content': '# Information abou...</td>\n",
       "    </tr>\n",
       "    <tr>\n",
       "      <th>2</th>\n",
       "      <td>[]</td>\n",
       "      <td>8</td>\n",
       "      <td>what is the waterproof rating of the TrailMast...</td>\n",
       "      <td>3</td>\n",
       "      <td>Hi Emily! Thank you for your question. The Tra...</td>\n",
       "      <td>intent: support</td>\n",
       "      <td>{'citations': [{'content': '# Information abou...</td>\n",
       "    </tr>\n",
       "    <tr>\n",
       "      <th>3</th>\n",
       "      <td>[]</td>\n",
       "      <td>8</td>\n",
       "      <td>I would like to return the tent I bought. It i...</td>\n",
       "      <td>6</td>\n",
       "      <td>None</td>\n",
       "      <td>None</td>\n",
       "      <td>None</td>\n",
       "    </tr>\n",
       "    <tr>\n",
       "      <th>4</th>\n",
       "      <td>[]</td>\n",
       "      <td>2</td>\n",
       "      <td>What is your return or exchange policy?</td>\n",
       "      <td>4</td>\n",
       "      <td>None</td>\n",
       "      <td>None</td>\n",
       "      <td>None</td>\n",
       "    </tr>\n",
       "    <tr>\n",
       "      <th>5</th>\n",
       "      <td>[]</td>\n",
       "      <td>6</td>\n",
       "      <td>Do you have any hiking boots?</td>\n",
       "      <td>10</td>\n",
       "      <td>None</td>\n",
       "      <td>None</td>\n",
       "      <td>None</td>\n",
       "    </tr>\n",
       "    <tr>\n",
       "      <th>6</th>\n",
       "      <td>[]</td>\n",
       "      <td>1</td>\n",
       "      <td>Do you have any climbing gear?</td>\n",
       "      <td>8</td>\n",
       "      <td>None</td>\n",
       "      <td>None</td>\n",
       "      <td>None</td>\n",
       "    </tr>\n",
       "    <tr>\n",
       "      <th>7</th>\n",
       "      <td>[]</td>\n",
       "      <td>2</td>\n",
       "      <td>What gear do you recommend for hiking?</td>\n",
       "      <td>11</td>\n",
       "      <td>None</td>\n",
       "      <td>None</td>\n",
       "      <td>None</td>\n",
       "    </tr>\n",
       "    <tr>\n",
       "      <th>8</th>\n",
       "      <td>[]</td>\n",
       "      <td>4</td>\n",
       "      <td>tell me about your hiking jackets</td>\n",
       "      <td>7</td>\n",
       "      <td>None</td>\n",
       "      <td>None</td>\n",
       "      <td>None</td>\n",
       "    </tr>\n",
       "    <tr>\n",
       "      <th>9</th>\n",
       "      <td>[]</td>\n",
       "      <td>7</td>\n",
       "      <td>what is the temperature rating of the cozynigh...</td>\n",
       "      <td>1</td>\n",
       "      <td>None</td>\n",
       "      <td>None</td>\n",
       "      <td>None</td>\n",
       "    </tr>\n",
       "  </tbody>\n",
       "</table>\n",
       "</div>"
      ],
      "text/plain": [
       "                    inputs.chat_history inputs.customerId  \\\n",
       "outputs.line_number                                         \n",
       "0                                    []                 7   \n",
       "1                                    []                 6   \n",
       "2                                    []                 8   \n",
       "3                                    []                 8   \n",
       "4                                    []                 2   \n",
       "5                                    []                 6   \n",
       "6                                    []                 1   \n",
       "7                                    []                 2   \n",
       "8                                    []                 4   \n",
       "9                                    []                 7   \n",
       "\n",
       "                                                       inputs.question  \\\n",
       "outputs.line_number                                                      \n",
       "0                    what is the temperature rating of my sleeping ...   \n",
       "1                             is the jacket I bought machine washable?   \n",
       "2                    what is the waterproof rating of the TrailMast...   \n",
       "3                    I would like to return the tent I bought. It i...   \n",
       "4                              What is your return or exchange policy?   \n",
       "5                                        Do you have any hiking boots?   \n",
       "6                                       Do you have any climbing gear?   \n",
       "7                               What gear do you recommend for hiking?   \n",
       "8                                    tell me about your hiking jackets   \n",
       "9                    what is the temperature rating of the cozynigh...   \n",
       "\n",
       "                     inputs.line_number  \\\n",
       "outputs.line_number                       \n",
       "0                                     0   \n",
       "1                                     5   \n",
       "2                                     3   \n",
       "3                                     6   \n",
       "4                                     4   \n",
       "5                                    10   \n",
       "6                                     8   \n",
       "7                                    11   \n",
       "8                                     7   \n",
       "9                                     1   \n",
       "\n",
       "                                                        outputs.answer  \\\n",
       "outputs.line_number                                                      \n",
       "0                                                                 None   \n",
       "1                    Hi Emily! The CozyNights Sleeping Bag has a te...   \n",
       "2                    Hi Emily! Thank you for your question. The Tra...   \n",
       "3                                                                 None   \n",
       "4                                                                 None   \n",
       "5                                                                 None   \n",
       "6                                                                 None   \n",
       "7                                                                 None   \n",
       "8                                                                 None   \n",
       "9                                                                 None   \n",
       "\n",
       "                    outputs.intent_context  \\\n",
       "outputs.line_number                          \n",
       "0                                     None   \n",
       "1                          intent: support   \n",
       "2                          intent: support   \n",
       "3                                     None   \n",
       "4                                     None   \n",
       "5                                     None   \n",
       "6                                     None   \n",
       "7                                     None   \n",
       "8                                     None   \n",
       "9                                     None   \n",
       "\n",
       "                                                       outputs.context  \n",
       "outputs.line_number                                                     \n",
       "0                                                                 None  \n",
       "1                    {'citations': [{'content': '# Information abou...  \n",
       "2                    {'citations': [{'content': '# Information abou...  \n",
       "3                                                                 None  \n",
       "4                                                                 None  \n",
       "5                                                                 None  \n",
       "6                                                                 None  \n",
       "7                                                                 None  \n",
       "8                                                                 None  \n",
       "9                                                                 None  "
      ]
     },
     "execution_count": 8,
     "metadata": {},
     "output_type": "execute_result"
    }
   ],
   "source": [
    "details = pf_azure_client.get_details(base_run)\n",
    "details.head(10)"
   ]
  },
  {
   "cell_type": "markdown",
   "metadata": {},
   "source": [
    "# Cloud Eval run on Json Data for Intent Mapping Classification"
   ]
  },
  {
   "cell_type": "code",
   "execution_count": 17,
   "metadata": {},
   "outputs": [
    {
     "name": "stdout",
     "output_type": "stream",
     "text": [
      "2024_01_08_184555intent_eval_run-1\n"
     ]
    },
    {
     "name": "stderr",
     "output_type": "stream",
     "text": [
      "[2024-01-08 18:55:03,148][promptflow][WARNING] - You're using automatic runtime, if it's first time you're using it, it may take a while to build runtime and request may fail with timeout error. Wait a while and resubmit same flow can successfully start the run.\n",
      "[2024-01-08 18:55:07,695][promptflow.azure._restclient.flow_service_caller][INFO] - Start polling until session creation is completed...\n",
      "[2024-01-08 18:55:14,824][promptflow.azure._restclient.flow_service_caller][INFO] - Session creation finished with status Succeeded.\n"
     ]
    },
    {
     "name": "stdout",
     "output_type": "stream",
     "text": [
      "Portal url: https://ai.azure.com/projectflows/bulkrun/run/2024_01_08_184555intent_eval_run-1/details?wsid=/subscriptions/91d27443-f037-45d9-bb0c-428256992df6/resourceGroups/rg-aitourcontosostore/providers/Microsoft.MachineLearningServices/workspaces/contoso-store\n"
     ]
    }
   ],
   "source": [
    "eval_flow = \"intent_eval/\"\n",
    "run_name = timestamp+\"intent_eval_run\"\n",
    "print(run_name)\n",
    "\n",
    "eval_run_variant = pf_azure_client.run(\n",
    "    flow=eval_flow,\n",
    "    data=data,  # path to the data file\n",
    "    run=base_run,  # use run as the variant\n",
    "    column_mapping={\n",
    "        # reference data\n",
    "        \"question\": \"${data.question}\",\n",
    "        \"groundtruth\": \"${data.intent}\",\n",
    "        \"prediction\": \"${run.outputs.intent_context}\",\n",
    "    },\n",
    "    runtime=runtime,\n",
    "    display_name=run_name,\n",
    "    name=run_name\n",
    ")"
   ]
  },
  {
   "cell_type": "code",
   "execution_count": 18,
   "metadata": {},
   "outputs": [
    {
     "name": "stdout",
     "output_type": "stream",
     "text": [
      "2024-01-09 00:55:24 +0000      72 promptflow-runtime INFO     [2024_01_08_184555intent_eval_run-1] Receiving v2 bulk run request 12f30ba0-7135-4607-8e2b-92900166eea3: {\"flow_id\": \"2024_01_08_184555intent_eval_run-1\", \"flow_run_id\": \"2024_01_08_184555intent_eval_run-1\", \"flow_source\": {\"flow_source_type\": 1, \"flow_source_info\": {\"snapshot_id\": \"e44359c2-b993-4bb7-9293-12ea709862c4\"}, \"flow_dag_file\": \"flow.dag.yaml\"}, \"connections\": \"**data_scrubbed**\", \"log_path\": \"https://staitourcont008192701846.blob.core.windows.net/8a82542e-6930-4508-aafa-2285e571f07b-azureml/ExperimentRun/dcid.2024_01_08_184555intent_eval_run-1/logs/azureml/executionlogs.txt?sv=2019-07-07&sr=b&sig=**data_scrubbed**&skoid=db45885e-fcc8-4eb9-b2b3-f2c33cd507f5&sktid=72f988bf-86f1-41af-91ab-2d7cd011db47&skt=2024-01-08T17%3A33%3A09Z&ske=2024-01-10T01%3A43%3A09Z&sks=b&skv=2019-07-07&st=2024-01-09T00%3A45%3A23Z&se=2024-01-09T08%3A55%3A23Z&sp=rcw\", \"app_insights_instrumentation_key\": \"InstrumentationKey=**data_scrubbed**;IngestionEndpoint=https://eastus-6.in.applicationinsights.azure.com/;LiveEndpoint=https://eastus.livediagnostics.monitor.azure.com/\", \"data_inputs\": {\"data\": \"azureml://datastores/workspaceblobstore/paths/LocalUpload/3b3b76c9cb415cdd8d66016e1ea18b00/alltestdata.jsonl\", \"run.outputs\": \"azureml:/subscriptions/91d27443-f037-45d9-bb0c-428256992df6/resourceGroups/rg-aitourcontosostore/providers/Microsoft.MachineLearningServices/workspaces/contoso-store/data/azureml_2024_01_08_184555_intent_base_run_output_data_flow_outputs/versions/1\"}, \"inputs_mapping\": {\"question\": \"${data.question}\", \"groundtruth\": \"${data.intent}\", \"prediction\": \"${run.outputs.intent_context}\"}, \"azure_storage_setting\": {\"azure_storage_mode\": 1, \"storage_account_name\": \"staitourcont008192701846\", \"blob_container_name\": \"8a82542e-6930-4508-aafa-2285e571f07b-azureml-blobstore\", \"flow_artifacts_root_path\": \"promptflow/PromptFlowArtifacts/2024_01_08_184555intent_eval_run-1\", \"blob_container_sas_token\": \"?sv=2019-07-07&sr=c&sig=**data_scrubbed**&skoid=db45885e-fcc8-4eb9-b2b3-f2c33cd507f5&sktid=72f988bf-86f1-41af-91ab-2d7cd011db47&skt=2024-01-09T00%3A55%3A23Z&ske=2024-01-16T00%3A55%3A23Z&sks=b&skv=2019-07-07&se=2024-01-16T00%3A55%3A23Z&sp=racwl\", \"output_datastore_name\": \"workspaceblobstore\"}}\n",
      "2024-01-09 00:55:24 +0000      72 promptflow-runtime INFO     Runtime version: 20231218.v2. PromptFlow version: 1.3.0rc2\n",
      "2024-01-09 00:55:24 +0000      72 promptflow-runtime INFO     Updating 2024_01_08_184555intent_eval_run-1 to Status.Preparing...\n",
      "2024-01-09 00:55:25 +0000      72 promptflow-runtime INFO     Downloading snapshot to /mnt/host/service/app/38083/requests/2024_01_08_184555intent_eval_run-1\n",
      "2024-01-09 00:55:25 +0000      72 promptflow-runtime INFO     Get snapshot sas url for e44359c2-b993-4bb7-9293-12ea709862c4...\n",
      "2024-01-09 00:55:31 +0000      72 promptflow-runtime INFO     Downloading snapshot e44359c2-b993-4bb7-9293-12ea709862c4 from uri https://staitourcont008192701846.blob.core.windows.net/8a82542e-6930-4508-aafa-2285e571f07b-snapshotzips/contoso-store:8a82542e-6930-4508-aafa-2285e571f07b:snapshotzip/e44359c2-b993-4bb7-9293-12ea709862c4.zip...\n",
      "2024-01-09 00:55:31 +0000      72 promptflow-runtime INFO     Downloaded file /mnt/host/service/app/38083/requests/2024_01_08_184555intent_eval_run-1/e44359c2-b993-4bb7-9293-12ea709862c4.zip with size 5540 for snapshot e44359c2-b993-4bb7-9293-12ea709862c4.\n",
      "2024-01-09 00:55:31 +0000      72 promptflow-runtime INFO     Download snapshot e44359c2-b993-4bb7-9293-12ea709862c4 completed.\n",
      "2024-01-09 00:55:31 +0000      72 promptflow-runtime INFO     Successfully download snapshot to /mnt/host/service/app/38083/requests/2024_01_08_184555intent_eval_run-1\n",
      "2024-01-09 00:55:31 +0000      72 promptflow-runtime INFO     About to execute a python flow.\n",
      "2024-01-09 00:55:31 +0000      72 promptflow-runtime INFO     Use spawn method to start child process.\n",
      "2024-01-09 00:55:31 +0000      72 promptflow-runtime INFO     Starting to check process 326 status for run 2024_01_08_184555intent_eval_run-1\n",
      "2024-01-09 00:55:31 +0000      72 promptflow-runtime INFO     Start checking run status for run 2024_01_08_184555intent_eval_run-1\n",
      "2024-01-09 00:55:35 +0000     326 promptflow-runtime INFO     [72--326] Start processing flowV2......\n",
      "2024-01-09 00:55:35 +0000     326 promptflow-runtime INFO     Runtime version: 20231218.v2. PromptFlow version: 1.3.0rc2\n",
      "2024-01-09 00:55:35 +0000     326 promptflow-runtime INFO     Setting mlflow tracking uri...\n",
      "2024-01-09 00:55:35 +0000     326 promptflow-runtime INFO     Validating 'AzureML Data Scientist' user authentication...\n",
      "2024-01-09 00:55:36 +0000     326 promptflow-runtime INFO     Successfully validated 'AzureML Data Scientist' user authentication.\n",
      "2024-01-09 00:55:36 +0000     326 promptflow-runtime INFO     Using AzureMLRunStorageV2\n",
      "2024-01-09 00:55:36 +0000     326 promptflow-runtime INFO     Setting mlflow tracking uri to 'azureml://eastus.api.azureml.ms/mlflow/v1.0/subscriptions/91d27443-f037-45d9-bb0c-428256992df6/resourceGroups/rg-aitourcontosostore/providers/Microsoft.MachineLearningServices/workspaces/contoso-store'\n",
      "2024-01-09 00:55:36 +0000     326 promptflow-runtime INFO     Initialized blob service client for AzureMLRunTracker.\n",
      "2024-01-09 00:55:36 +0000     326 promptflow-runtime INFO     Setting mlflow tracking uri to 'azureml://eastus.api.azureml.ms/mlflow/v1.0/subscriptions/91d27443-f037-45d9-bb0c-428256992df6/resourceGroups/rg-aitourcontosostore/providers/Microsoft.MachineLearningServices/workspaces/contoso-store'\n",
      "2024-01-09 00:55:36 +0000     326 promptflow-runtime INFO     Resolve data from url finished in 0.48233150599980945 seconds\n",
      "2024-01-09 00:55:37 +0000     326 promptflow-runtime INFO     Resolve data from url finished in 0.636059897999985 seconds\n",
      "2024-01-09 00:55:37 +0000     326 promptflow-runtime INFO     Starting the aml run '2024_01_08_184555intent_eval_run-1'...\n",
      "2024-01-09 00:55:37 +0000     326 execution.bulk     INFO     Set process count to 12 by taking the minimum value among the factors of {'default_worker_count': 16, 'row_count': 12}.\n",
      "2024-01-09 00:55:38 +0000     378 execution.bulk     INFO     Process 378 started.\n",
      "2024-01-09 00:55:38 +0000     384 execution.bulk     INFO     Process 384 started.\n",
      "2024-01-09 00:55:38 +0000     390 execution.bulk     INFO     Process 390 started.\n",
      "2024-01-09 00:55:38 +0000     398 execution.bulk     INFO     Process 398 started.\n",
      "2024-01-09 00:55:38 +0000     326 execution.bulk     INFO     Process name: ForkProcess-2:3, Process id: 384, Line number: 0 start execution.\n",
      "2024-01-09 00:55:38 +0000     326 execution.bulk     INFO     Process name: ForkProcess-2:2, Process id: 378, Line number: 1 start execution.\n",
      "2024-01-09 00:55:38 +0000     406 execution.bulk     INFO     Process 406 started.\n",
      "2024-01-09 00:55:38 +0000     411 execution.bulk     INFO     Process 411 started.\n",
      "2024-01-09 00:55:38 +0000     326 execution.bulk     INFO     Process name: ForkProcess-2:5, Process id: 390, Line number: 2 start execution.\n",
      "2024-01-09 00:55:38 +0000     326 execution.bulk     INFO     Process name: ForkProcess-2:4, Process id: 398, Line number: 3 start execution.\n",
      "2024-01-09 00:55:38 +0000     326 execution.bulk     INFO     Process name: ForkProcess-2:6, Process id: 411, Line number: 4 start execution.\n",
      "2024-01-09 00:55:38 +0000     416 execution.bulk     INFO     Process 416 started.\n",
      "2024-01-09 00:55:38 +0000     326 execution.bulk     INFO     Process name: ForkProcess-2:8, Process id: 406, Line number: 5 start execution.\n",
      "2024-01-09 00:55:38 +0000     326 execution.bulk     INFO     Process name: ForkProcess-2:7, Process id: 416, Line number: 6 start execution.\n",
      "2024-01-09 00:55:38 +0000     428 execution.bulk     INFO     Process 428 started.\n",
      "2024-01-09 00:55:38 +0000     326 execution.bulk     INFO     Process name: ForkProcess-2:12, Process id: 428, Line number: 7 start execution.\n",
      "2024-01-09 00:55:38 +0000     326 execution.bulk     INFO     Process name: ForkProcess-2:4, Process id: 398, Line number: 3 completed.\n",
      "2024-01-09 00:55:38 +0000     326 execution.bulk     INFO     Finished 1 / 12 lines.\n",
      "2024-01-09 00:55:38 +0000     326 execution.bulk     INFO     Average execution time for completed lines: 0.55 seconds. Estimated time for incomplete lines: 6.05 seconds.\n",
      "2024-01-09 00:55:38 +0000     326 execution.bulk     INFO     Process name: ForkProcess-2:4, Process id: 398, Line number: 8 start execution.\n",
      "2024-01-09 00:55:38 +0000     326 execution.bulk     INFO     Process name: ForkProcess-2:3, Process id: 384, Line number: 0 completed.\n",
      "2024-01-09 00:55:38 +0000     326 execution.bulk     INFO     Finished 2 / 12 lines.\n",
      "2024-01-09 00:55:38 +0000     326 execution.bulk     INFO     Average execution time for completed lines: 0.38 seconds. Estimated time for incomplete lines: 3.8 seconds.\n",
      "2024-01-09 00:55:38 +0000     326 execution.bulk     INFO     Process name: ForkProcess-2:3, Process id: 384, Line number: 9 start execution.\n",
      "2024-01-09 00:55:38 +0000     326 execution.bulk     INFO     Process name: ForkProcess-2:2, Process id: 378, Line number: 1 completed.\n",
      "2024-01-09 00:55:38 +0000     326 execution.bulk     INFO     Finished 3 / 12 lines.\n",
      "2024-01-09 00:55:38 +0000     326 execution.bulk     INFO     Average execution time for completed lines: 0.28 seconds. Estimated time for incomplete lines: 2.52 seconds.\n",
      "2024-01-09 00:55:38 +0000     326 execution.bulk     INFO     Process name: ForkProcess-2:2, Process id: 378, Line number: 10 start execution.\n",
      "2024-01-09 00:55:38 +0000     326 execution.bulk     INFO     Process name: ForkProcess-2:6, Process id: 411, Line number: 4 completed.\n",
      "2024-01-09 00:55:38 +0000     326 execution.bulk     INFO     Process name: ForkProcess-2:5, Process id: 390, Line number: 2 completed.\n",
      "2024-01-09 00:55:38 +0000     326 execution.bulk     INFO     Finished 5 / 12 lines.\n",
      "2024-01-09 00:55:38 +0000     326 execution.bulk     INFO     Finished 5 / 12 lines.\n",
      "2024-01-09 00:55:38 +0000     326 execution.bulk     INFO     Average execution time for completed lines: 0.18 seconds. Estimated time for incomplete lines: 1.26 seconds.\n",
      "2024-01-09 00:55:38 +0000     326 execution.bulk     INFO     Average execution time for completed lines: 0.19 seconds. Estimated time for incomplete lines: 1.33 seconds.\n",
      "2024-01-09 00:55:39 +0000     326 execution.bulk     INFO     Process name: ForkProcess-2:6, Process id: 411, Line number: 11 start execution.\n",
      "2024-01-09 00:55:39 +0000     326 execution.bulk     INFO     Process name: ForkProcess-2:7, Process id: 416, Line number: 6 completed.\n",
      "2024-01-09 00:55:39 +0000     326 execution.bulk     INFO     Finished 6 / 12 lines.\n",
      "2024-01-09 00:55:39 +0000     326 execution.bulk     INFO     Process name: ForkProcess-2:8, Process id: 406, Line number: 5 completed.\n",
      "2024-01-09 00:55:39 +0000     326 execution.bulk     INFO     Average execution time for completed lines: 0.17 seconds. Estimated time for incomplete lines: 1.02 seconds.\n",
      "2024-01-09 00:55:39 +0000     326 execution.bulk     INFO     Finished 7 / 12 lines.\n",
      "2024-01-09 00:55:39 +0000     326 execution.bulk     INFO     Process name: ForkProcess-2:12, Process id: 428, Line number: 7 completed.\n",
      "2024-01-09 00:55:39 +0000     326 execution.bulk     INFO     Average execution time for completed lines: 0.15 seconds. Estimated time for incomplete lines: 0.75 seconds.\n",
      "2024-01-09 00:55:39 +0000     326 execution.bulk     INFO     Process name: ForkProcess-2:4, Process id: 398, Line number: 8 completed.\n",
      "2024-01-09 00:55:39 +0000     326 execution.bulk     INFO     Finished 9 / 12 lines.\n",
      "2024-01-09 00:55:39 +0000     326 execution.bulk     INFO     Finished 9 / 12 lines.\n",
      "2024-01-09 00:55:39 +0000     326 execution.bulk     INFO     Average execution time for completed lines: 0.13 seconds. Estimated time for incomplete lines: 0.39 seconds.\n",
      "2024-01-09 00:55:39 +0000     326 execution.bulk     INFO     Average execution time for completed lines: 0.13 seconds. Estimated time for incomplete lines: 0.39 seconds.\n",
      "2024-01-09 00:55:39 +0000     326 execution.bulk     INFO     Process name: ForkProcess-2:2, Process id: 378, Line number: 10 completed.\n",
      "2024-01-09 00:55:39 +0000     326 execution.bulk     INFO     Finished 10 / 12 lines.\n",
      "2024-01-09 00:55:39 +0000     326 execution.bulk     INFO     Process name: ForkProcess-2:3, Process id: 384, Line number: 9 completed.\n",
      "2024-01-09 00:55:39 +0000     326 execution.bulk     INFO     Process name: ForkProcess-2:6, Process id: 411, Line number: 11 completed.\n",
      "2024-01-09 00:55:39 +0000     326 execution.bulk     INFO     Average execution time for completed lines: 0.12 seconds. Estimated time for incomplete lines: 0.24 seconds.\n",
      "2024-01-09 00:55:39 +0000     326 execution.bulk     INFO     Finished 12 / 12 lines.\n",
      "2024-01-09 00:55:39 +0000     326 execution.bulk     INFO     Finished 12 / 12 lines.\n",
      "2024-01-09 00:55:39 +0000     326 execution.bulk     INFO     Average execution time for completed lines: 0.11 seconds. Estimated time for incomplete lines: 0.0 seconds.\n",
      "2024-01-09 00:55:39 +0000     326 execution.bulk     INFO     Average execution time for completed lines: 0.11 seconds. Estimated time for incomplete lines: 0.0 seconds.\n",
      "(Run status is 'Running', continue streaming...)\n",
      "2024-01-09 00:56:11 +0000     326 execution.bulk     INFO     Upload status summary metrics for run 2024_01_08_184555intent_eval_run-1 finished in 1.9530742279998776 seconds\n",
      "2024-01-09 00:56:11 +0000     326 promptflow-runtime INFO     Successfully write run properties {\"azureml.promptflow.total_tokens\": 2590, \"_azureml.evaluate_artifacts\": \"[{\\\"path\\\": \\\"instance_results.jsonl\\\", \\\"type\\\": \\\"table\\\"}]\"} with run id '2024_01_08_184555intent_eval_run-1'\n",
      "2024-01-09 00:56:11 +0000     326 execution.bulk     INFO     Upload RH properties for run 2024_01_08_184555intent_eval_run-1 finished in 0.08347241999990729 seconds\n",
      "2024-01-09 00:56:11 +0000     326 promptflow-runtime INFO     Creating unregistered output Asset for Run 2024_01_08_184555intent_eval_run-1...\n",
      "2024-01-09 00:56:11 +0000     326 promptflow-runtime INFO     Created debug_info Asset: azureml://locations/eastus/workspaces/8a82542e-6930-4508-aafa-2285e571f07b/data/azureml_2024_01_08_184555intent_eval_run-1_output_data_debug_info/versions/1\n",
      "2024-01-09 00:56:11 +0000     326 promptflow-runtime INFO     Creating unregistered output Asset for Run 2024_01_08_184555intent_eval_run-1...\n",
      "2024-01-09 00:56:12 +0000     326 promptflow-runtime INFO     Created flow_outputs output Asset: azureml://locations/eastus/workspaces/8a82542e-6930-4508-aafa-2285e571f07b/data/azureml_2024_01_08_184555intent_eval_run-1_output_data_flow_outputs/versions/1\n",
      "2024-01-09 00:56:12 +0000     326 promptflow-runtime INFO     Creating Artifact for Run 2024_01_08_184555intent_eval_run-1...\n",
      "2024-01-09 00:56:12 +0000     326 promptflow-runtime INFO     Created instance_results.jsonl Artifact.\n",
      "2024-01-09 00:56:12 +0000     326 promptflow-runtime INFO     Patching 2024_01_08_184555intent_eval_run-1...\n",
      "2024-01-09 00:56:12 +0000     326 promptflow-runtime INFO     Ending the aml run '2024_01_08_184555intent_eval_run-1' with status 'Completed'...\n",
      "2024-01-09 00:56:15 +0000      72 promptflow-runtime INFO     Process 326 finished\n",
      "2024-01-09 00:56:15 +0000      72 promptflow-runtime INFO     [72] Child process finished!\n",
      "2024-01-09 00:56:15 +0000      72 promptflow-runtime INFO     [2024_01_08_184555intent_eval_run-1] End processing bulk run\n",
      "2024-01-09 00:56:15 +0000      72 promptflow-runtime INFO     Cleanup working dir /mnt/host/service/app/38083/requests/2024_01_08_184555intent_eval_run-1 for bulk run\n",
      "======= Run Summary =======\n",
      "Run name: \"2024_01_08_184555intent_eval_run-1\"\n",
      "Run status: \"Completed\"\n",
      "Start time: \"2024-01-09 00:55:37.783732+00:00\"\n",
      "Duration: \"0:00:35.663282\"\n",
      "Run url: \"https://ai.azure.com/projectflows/bulkrun/run/2024_01_08_184555intent_eval_run-1/details?wsid=/subscriptions/91d27443-f037-45d9-bb0c-428256992df6/resourceGroups/rg-aitourcontosostore/providers/Microsoft.MachineLearningServices/workspaces/contoso-store\""
     ]
    },
    {
     "data": {
      "text/plain": [
       "<promptflow._sdk.entities._run.Run at 0x15c71f01df0>"
      ]
     },
     "execution_count": 18,
     "metadata": {},
     "output_type": "execute_result"
    }
   ],
   "source": [
    "pf_azure_client.stream(eval_run_variant)"
   ]
  },
  {
   "cell_type": "code",
   "execution_count": 19,
   "metadata": {},
   "outputs": [
    {
     "data": {
      "text/html": [
       "<div>\n",
       "<style scoped>\n",
       "    .dataframe tbody tr th:only-of-type {\n",
       "        vertical-align: middle;\n",
       "    }\n",
       "\n",
       "    .dataframe tbody tr th {\n",
       "        vertical-align: top;\n",
       "    }\n",
       "\n",
       "    .dataframe thead th {\n",
       "        text-align: right;\n",
       "    }\n",
       "</style>\n",
       "<table border=\"1\" class=\"dataframe\">\n",
       "  <thead>\n",
       "    <tr style=\"text-align: right;\">\n",
       "      <th></th>\n",
       "      <th>inputs.question</th>\n",
       "      <th>inputs.groundtruth</th>\n",
       "      <th>inputs.prediction</th>\n",
       "      <th>inputs.line_number</th>\n",
       "      <th>outputs.results</th>\n",
       "    </tr>\n",
       "    <tr>\n",
       "      <th>outputs.line_number</th>\n",
       "      <th></th>\n",
       "      <th></th>\n",
       "      <th></th>\n",
       "      <th></th>\n",
       "      <th></th>\n",
       "    </tr>\n",
       "  </thead>\n",
       "  <tbody>\n",
       "    <tr>\n",
       "      <th>3</th>\n",
       "      <td>what is the waterproof rating of the TrailMast...</td>\n",
       "      <td>support</td>\n",
       "      <td>Intent: support</td>\n",
       "      <td>3</td>\n",
       "      <td>{'accuracy': 100.0}</td>\n",
       "    </tr>\n",
       "    <tr>\n",
       "      <th>0</th>\n",
       "      <td>what is the temperature rating of my sleeping ...</td>\n",
       "      <td>support</td>\n",
       "      <td>intent: support</td>\n",
       "      <td>0</td>\n",
       "      <td>{'accuracy': 100.0}</td>\n",
       "    </tr>\n",
       "    <tr>\n",
       "      <th>1</th>\n",
       "      <td>what is the temperature rating of the cozynigh...</td>\n",
       "      <td>support</td>\n",
       "      <td>intent: support</td>\n",
       "      <td>1</td>\n",
       "      <td>{'accuracy': 100.0}</td>\n",
       "    </tr>\n",
       "    <tr>\n",
       "      <th>4</th>\n",
       "      <td>What is your return or exchange policy?</td>\n",
       "      <td>support</td>\n",
       "      <td>intent: support</td>\n",
       "      <td>4</td>\n",
       "      <td>{'accuracy': 100.0}</td>\n",
       "    </tr>\n",
       "    <tr>\n",
       "      <th>2</th>\n",
       "      <td>what is the waterproof rating of the tent I bo...</td>\n",
       "      <td>support</td>\n",
       "      <td>intent: support</td>\n",
       "      <td>2</td>\n",
       "      <td>{'accuracy': 100.0}</td>\n",
       "    </tr>\n",
       "    <tr>\n",
       "      <th>6</th>\n",
       "      <td>I would like to return the tent I bought. It i...</td>\n",
       "      <td>support</td>\n",
       "      <td>intent: support</td>\n",
       "      <td>6</td>\n",
       "      <td>{'accuracy': 100.0}</td>\n",
       "    </tr>\n",
       "    <tr>\n",
       "      <th>5</th>\n",
       "      <td>is the jacket I bought machine washable?</td>\n",
       "      <td>support</td>\n",
       "      <td>intent: support</td>\n",
       "      <td>5</td>\n",
       "      <td>{'accuracy': 100.0}</td>\n",
       "    </tr>\n",
       "    <tr>\n",
       "      <th>7</th>\n",
       "      <td>tell me about your hiking jackets</td>\n",
       "      <td>chat</td>\n",
       "      <td>intent: chat</td>\n",
       "      <td>7</td>\n",
       "      <td>{'accuracy': 100.0}</td>\n",
       "    </tr>\n",
       "    <tr>\n",
       "      <th>8</th>\n",
       "      <td>Do you have any climbing gear?</td>\n",
       "      <td>chat</td>\n",
       "      <td>intent: chat</td>\n",
       "      <td>8</td>\n",
       "      <td>{'accuracy': 100.0}</td>\n",
       "    </tr>\n",
       "    <tr>\n",
       "      <th>10</th>\n",
       "      <td>Do you have any hiking boots?</td>\n",
       "      <td>chat</td>\n",
       "      <td>intent: chat</td>\n",
       "      <td>10</td>\n",
       "      <td>{'accuracy': 100.0}</td>\n",
       "    </tr>\n",
       "  </tbody>\n",
       "</table>\n",
       "</div>"
      ],
      "text/plain": [
       "                                                       inputs.question  \\\n",
       "outputs.line_number                                                      \n",
       "3                    what is the waterproof rating of the TrailMast...   \n",
       "0                    what is the temperature rating of my sleeping ...   \n",
       "1                    what is the temperature rating of the cozynigh...   \n",
       "4                              What is your return or exchange policy?   \n",
       "2                    what is the waterproof rating of the tent I bo...   \n",
       "6                    I would like to return the tent I bought. It i...   \n",
       "5                             is the jacket I bought machine washable?   \n",
       "7                                    tell me about your hiking jackets   \n",
       "8                                       Do you have any climbing gear?   \n",
       "10                                       Do you have any hiking boots?   \n",
       "\n",
       "                    inputs.groundtruth inputs.prediction  inputs.line_number  \\\n",
       "outputs.line_number                                                            \n",
       "3                              support   Intent: support                   3   \n",
       "0                              support   intent: support                   0   \n",
       "1                              support   intent: support                   1   \n",
       "4                              support   intent: support                   4   \n",
       "2                              support   intent: support                   2   \n",
       "6                              support   intent: support                   6   \n",
       "5                              support   intent: support                   5   \n",
       "7                                 chat      intent: chat                   7   \n",
       "8                                 chat      intent: chat                   8   \n",
       "10                                chat      intent: chat                  10   \n",
       "\n",
       "                         outputs.results  \n",
       "outputs.line_number                       \n",
       "3                    {'accuracy': 100.0}  \n",
       "0                    {'accuracy': 100.0}  \n",
       "1                    {'accuracy': 100.0}  \n",
       "4                    {'accuracy': 100.0}  \n",
       "2                    {'accuracy': 100.0}  \n",
       "6                    {'accuracy': 100.0}  \n",
       "5                    {'accuracy': 100.0}  \n",
       "7                    {'accuracy': 100.0}  \n",
       "8                    {'accuracy': 100.0}  \n",
       "10                   {'accuracy': 100.0}  "
      ]
     },
     "execution_count": 19,
     "metadata": {},
     "output_type": "execute_result"
    }
   ],
   "source": [
    "details = pf_azure_client.get_details(eval_run_variant)\n",
    "details.head(10)"
   ]
  },
  {
   "cell_type": "code",
   "execution_count": 20,
   "metadata": {},
   "outputs": [
    {
     "name": "stdout",
     "output_type": "stream",
     "text": [
      "{}\n"
     ]
    }
   ],
   "source": [
    "\n",
    "metrics = pf_azure_client.get_metrics(eval_run_variant)\n",
    "print(json.dumps(metrics, indent=4))"
   ]
  },
  {
   "cell_type": "code",
   "execution_count": 21,
   "metadata": {},
   "outputs": [
    {
     "name": "stdout",
     "output_type": "stream",
     "text": [
      "Web View: https://ml.azure.com/prompts/flow/bulkrun/runs/outputs?wsid=/subscriptions/91d27443-f037-45d9-bb0c-428256992df6/resourceGroups/rg-aitourcontosostore/providers/Microsoft.MachineLearningServices/workspaces/contoso-store&runId=2024_01_08_184555_intent_base_run,2024_01_08_184555intent_eval_run-1\n"
     ]
    }
   ],
   "source": [
    "pf_azure_client.visualize([base_run, eval_run_variant])"
   ]
  },
  {
   "cell_type": "code",
   "execution_count": null,
   "metadata": {},
   "outputs": [],
   "source": []
  }
 ],
 "metadata": {
  "kernelspec": {
   "display_name": ".venv",
   "language": "python",
   "name": "python3"
  },
  "language_info": {
   "codemirror_mode": {
    "name": "ipython",
    "version": 3
   },
   "file_extension": ".py",
   "mimetype": "text/x-python",
   "name": "python",
   "nbconvert_exporter": "python",
   "pygments_lexer": "ipython3",
   "version": "3.11.5"
  }
 },
 "nbformat": 4,
 "nbformat_minor": 2
}
